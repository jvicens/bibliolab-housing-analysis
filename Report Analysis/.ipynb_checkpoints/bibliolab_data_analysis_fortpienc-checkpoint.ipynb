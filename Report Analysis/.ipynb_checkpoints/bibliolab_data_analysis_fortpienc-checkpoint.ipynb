{
 "cells": [
  {
   "cell_type": "markdown",
   "metadata": {},
   "source": [
    "### Data extraction \"Joc de l'Habitatge\""
   ]
  },
  {
   "cell_type": "code",
   "execution_count": 1,
   "metadata": {},
   "outputs": [],
   "source": [
    "import pymysql\n",
    "import csv\n",
    "import time\n",
    "from datetime import datetime, date\n",
    "import calendar\n",
    "import pandas as pd\n",
    "import seaborn as sns\n",
    "import numpy as np\n",
    "import matplotlib.pyplot as plt\n",
    "import matplotlib.ticker as mtick\n",
    "import math\n",
    "import scipy.stats as stats\n",
    "\n",
    "\n",
    "from collections import Counter"
   ]
  },
  {
   "cell_type": "code",
   "execution_count": 2,
   "metadata": {},
   "outputs": [],
   "source": [
    "title_font = {'fontname': 'Helvetica', 'size': '14', 'color': 'black', 'weight': 'bold', 'verticalalignment': 'bottom'}  # Bottom vertical alignment for more space\n",
    "axis_font = {'fontname': 'Helvetica', 'size': '12', 'weight': 'bold', 'color': 'black'}\n",
    "ticks_font = {'fontname': 'Helvetica', 'size': '10',  'color': 'black', 'weight': 'bold'}\n",
    "\n",
    "colors = [\"#009fe3\", \"#20b200\"]\n",
    "tricolors_green = [\"#8fd87f\", \"#20b200\", \"#105900\"]\n"
   ]
  },
  {
   "cell_type": "markdown",
   "metadata": {},
   "source": [
    "#### ToDo: Revise the control variables"
   ]
  },
  {
   "cell_type": "code",
   "execution_count": 3,
   "metadata": {},
   "outputs": [],
   "source": [
    "def data_extraction():\n",
    "\n",
    "    host = '127.0.0.1'\n",
    "    db = pymysql.connect(user='bibliolab', passwd='bibliolab2019', host=host, db='bibliolab_fortpienc')\n",
    "\n",
    "    with db:\n",
    "        \n",
    "        \n",
    "        # Database game\n",
    "        c_game = db.cursor()\n",
    "        c_game.execute(\"SELECT GAME.id, GAME.status, GAME.experiment, GAME.control_intervention FROM game_partida GAME \")\n",
    "        data_game = c_game.fetchall()\n",
    "\n",
    "        games = []\n",
    "\n",
    "        for g in data_game:\n",
    "            \n",
    "            if g[1] != 'NO_VALID': # Game status\n",
    "            \n",
    "                c_round = db.cursor()\n",
    "                c_round.execute(\"SELECT ROUND.id, ROUND.num_ronda, ROUND.bucket_inici_ronda, ROUND.bucket_final_ronda, ROUND.rented, ROUND.calculada, ROUND.user_id FROM game_ronda ROUND WHERE ROUND.partida_id = %d ORDER BY ROUND.num_ronda ASC \" %(g[0]))\n",
    "                data_round = c_round.fetchall()\n",
    "\n",
    "                rounds = []\n",
    "\n",
    "                for r in data_round:\n",
    "                    if r[5] == 1: # if round is calculated\n",
    "                        round_ = {'id': r[0],\n",
    "                                 'num_round': r[1],\n",
    "                                 'price_init': r[2],\n",
    "                                 'price_fini': r[3],\n",
    "                                 'is_rented': r[4],\n",
    "                                 'user_id': r[6]\n",
    "                                 }\n",
    "                        rounds.append(round_)\n",
    "                        \n",
    "                game = {'id': g[0],\n",
    "                        'status': g[1],\n",
    "                        'experiment': g[2],\n",
    "                        'control_intervention': g[3],\n",
    "                        'rounds': rounds\n",
    "                       }\n",
    "                \n",
    "                if game['status'] != 'TEST':\n",
    "                    games.append(game)\n",
    "\n",
    "\n",
    "        # Database user\n",
    "        c_user = db.cursor()\n",
    "        c_user.execute(\"SELECT USER.id, USER.is_robot, USER.consent, USER.socio_pr1, USER.socio_pr2, USER.socio_pr3, USER.socio_pr4, USER.socio_pr5, USER.socio_pr6, USER.socio_pr7, USER.frame_pr1, USER.frame_pr2, USER.frame_pr3, USER.frame_pr4, USER.frame_pr5, USER.frame_pr6, USER.verification_attempts, USER.status, USER.acabat, USER.bots, USER.endowment_initial, USER.endowment_current, USER.endowment_final, USER.expenses, USER.tickets, USER.house, USER.house_price, USER.partida_id, USER.comment, USER.enquesta_final_pr1, USER.enquesta_final_pr2, USER.enquesta_final_pr3, USER.enquesta_final_pr4, USER.enquesta_final_pr5, USER.enquesta_final_pr6 FROM game_user USER \")\n",
    "        data_user = c_user.fetchall()\n",
    "\n",
    "\n",
    "        # Collect user data\n",
    "        participants = []\n",
    "\n",
    "        for u in data_user:\n",
    "\n",
    "            control = {\n",
    "                'is_robot': u[1], # is a robot?\n",
    "                'consent': u[2], # is consented?\n",
    "                'status': u[17], # status\n",
    "                'acabat': u[18], # acabat?\n",
    "                'bots': u[19], # number of bots selection\n",
    "                'verification_attempts': u[16], # verification questions attemps\n",
    "                'comments': u[28] # empty (\"\") if its all ok\n",
    "            }\n",
    "    \n",
    "            #ToDo: Revise the control\n",
    "            if control['is_robot'] == 0 and control['consent'] == 1 and control['acabat'] == 1 and control['bots'] < 2 and control['comments']=='':\n",
    "\n",
    "                # Round information\n",
    "                c_user_round = db.cursor()\n",
    "                c_user_round.execute(\"SELECT USER_ROUND.id, USER_ROUND.ha_seleccionat, USER_ROUND.seleccio, USER_ROUND.temps_seleccio, USER_ROUND.endowment_variation, USER_ROUND.ronda_id, USER_ROUND.user_id, ROUND.num_ronda, ROUND.bucket_inici_ronda, ROUND.user_id FROM game_userronda USER_ROUND INNER JOIN game_ronda ROUND ON ROUND.id = USER_ROUND.ronda_id WHERE USER_ROUND.user_id = %d ORDER BY USER_ROUND.ronda_id ASC \" %(u[0]))\n",
    "                data_user_round = c_user_round.fetchall() \n",
    "\n",
    "                rounds = []\n",
    "                num_round_rented = None\n",
    "                \n",
    "                for ur in data_user_round:  \n",
    "                    round_ = {'id': ur[0],\n",
    "                              'num_round': ur[7],\n",
    "                              'is_selected': ur[1], # round is selected?\n",
    "                              'selection': ur[2], # round selection\n",
    "                              'time_selection': ur[3], # time selection\n",
    "                              'price': ur[8],\n",
    "                             }\n",
    "                    rounds.append(round_)\n",
    "                    \n",
    "                    if ur[9] == u[0] and ur[2]:\n",
    "                        num_round_rented = ur[7]\n",
    "                    \n",
    "\n",
    "                socio = {'socio_pr1': u[3], # q: Identitat de gènere r1: Home; r2: Dona; r3: No binària; r4: No vull contestar;\n",
    "                         'socio_pr2': u[4], # q: Rang d'edat r1: Menor de 14; r2: 14 - 17; r3: 18 - 24; r4: 25 - 34; r5: 35 - 44; r6: 45 - 54; r7: 55 - 64; r8: Major de 65;\n",
    "                         'socio_pr3': u[5], # q: Codi Postal\n",
    "                         'socio_pr4': u[6], # q: Nivell d'estudis finalitzats r1: Cap; r2: Obligatoris; r3: Secundaris generals; r4: Secundaris professionals; r5: Universitaris; r6: Altres;\n",
    "                         'socio_pr5': u[7], # q: Amb qui vius? r1: Sol; r2: Llar sense persones a càrrec; r3: Llars amb persones a càrrec; r4: Més persones que no són parella;\n",
    "                         'socio_pr6': u[8], # q: Règim de tinença de la teva llar r1: En propietat; r2: En propietat pendent de pagament (hipoteca); r3: En lloguer o relloguer a preu de mercat; r4: En lloguer o relloguer a preu inferior al de mercat ; r5: En cessió gratuïta; r6: Habitació de lloguer; r7: Ocupació; r8: Altres; \n",
    "                         'socio_pr7': u[9], # q: Ets propietari d’algun habitatge que està en règim de lloguer? r1: Sí; r2: No; r3: No vull contestar;\n",
    "                        }\n",
    "\n",
    "                frame = {'frame_pr1': u[10], # q: En quina mesura comparteixes la inquietud triada pels veïns que han participat en el co-disseny d'aquest experiment sobre el tema de l'habitatge? r1: Poc; r2: Normal; r3: Molt;\n",
    "                         'frame_pr2': u[11], # q: En quina mesura estàs d'acord amb una regulació que limiti el preu del lloguer? r1: Poc; r2: Normal; r3: Molt\n",
    "                         'frame_pr3': u[12], # q: En quina mesura estàs d'acord amb una regulació fiscal que permeti la concessió d'ajuts per facilitar l'accés a l'habitatge i mantenir el preu? r1: Poc; r2: Normal; r3: Molt;\n",
    "                         'frame_pr4': u[13], # q: Quin creus que és el preu mig del lloguer d’una casa de 70m2 en bones condicions a {municipi}? r1: 300 euros; r2: 400 euros; r3: 500 euros; r4: 600 euros; r5: 700 euros; r6: 800 euros; r7: 900 euros; r8: 1000 euros;\n",
    "                         'frame_pr5': u[14], # q: Quin percentatge dels teus ingressos mensuals nets dediques a despeses associades a l’accés a l’habitatge? r1: <25%; r2: 25-34%; r3: 35-44%; r4: 45-54%; r5: 55-64%; r6: 65-74%; r7: >74%;\n",
    "                         'frame_pr6': u[15], # q: Quin percentatge dels teus ingressos mensuals nets consideres just dedicar a despeses associades a l’accés a l’habitatge? r1: <25%; r2: 25-34%; r3: 35-44%; r4: 45-54%; r5: 55-64%; r6: 65-74%; r7: >74%;\n",
    "                        }\n",
    "                \n",
    "                final = {'final_pr1': u[29], # q: En quina mesura creus que ha d’haver-hi un control públic de l’habitatge? \n",
    "                         'final_pr2': u[30], # q: En quina mesura estàs d’acord amb la necessitat de tenir un sistema que garanteixi la consideració de l’habitatge com un bé de primera necessitat?\n",
    "                         'final_pr3': u[31], # q: En quina mesura creus que la presència de pisos buits afecta la situació de l'habitatge al municipi? \n",
    "                         'final_pr4': u[32], # q: En quina mesura estàs d’acord amb la necessitat de prioritzar el dret a l’habitatge per a col·lectius vulnerables? \n",
    "                         'final_pr5': u[33], # q: Coneixes iniciatives d’habitatge cooperatiu?\n",
    "                         'final_pr6': u[34], # q: En quina mesura creus que les iniciatives d’habitatge cooperatiu poden millorar l’eficiència del model d’habitatge actual? (opcional)\n",
    "                }\n",
    "                \n",
    "\n",
    "                # Participant Dictionary\n",
    "                game = [g for g in games if g['id'] == u[27]][0]\n",
    "                \n",
    "                participant = {'id': u[0],\n",
    "                               'game': game,\n",
    "                               'intervention': game['control_intervention'],\n",
    "                               'control': control,\n",
    "                               'socio': socio,\n",
    "                               'frame': frame,\n",
    "                               'final': final,\n",
    "                               'rounds': rounds,\n",
    "                               'endowment_initial': u[20], \n",
    "                               'endowment_current': u[21],\n",
    "                               'endowment_final': u[22],\n",
    "                               'expenses': u[23],\n",
    "                               'tickets': u[24], \n",
    "                               'house': u[25], \n",
    "                               'house_price': u[26], \n",
    "                               'round_rented': num_round_rented\n",
    "                              }\n",
    "                \n",
    "                participants.append(participant)\n",
    "        \n",
    "        \n",
    "    return games, participants\n",
    "    "
   ]
  },
  {
   "cell_type": "code",
   "execution_count": 4,
   "metadata": {},
   "outputs": [
    {
     "name": "stdout",
     "output_type": "stream",
     "text": [
      "----------------------\n",
      "Games and Participants\n",
      "TS: 0(0 p.)\n",
      "FP: 15(90 p.)\n",
      "GR: 0(0 p.)\n",
      "OM: 0(0 p.)\n",
      "------------------\n",
      "Valid Participants\n",
      "TS: 0\n",
      "FP: 76\n",
      "GR: 0\n",
      "TS: 0\n"
     ]
    }
   ],
   "source": [
    "games, participants = data_extraction()\n",
    "\n",
    "df_games = pd.DataFrame(games)\n",
    "df_participants = pd.DataFrame(participants)\n",
    "\n",
    "participants_TS = [p for p in participants if p['game']['experiment'] == 'Test']\n",
    "participants_FP = [p for p in participants if p['game']['experiment'] == 'FortPienc']\n",
    "participants_GR = [p for p in participants if p['game']['experiment'] == 'Granollers']\n",
    "participants_OM = [p for p in participants if p['game']['experiment'] == 'Olesa de Montserrat']\n",
    "\n",
    "df_participants_TS = pd.DataFrame([p for p in participants if p['game']['experiment'] == 'Test'])\n",
    "df_participants_FP = pd.DataFrame([p for p in participants if p['game']['experiment'] == 'FortPienc'])\n",
    "df_participants_GR = pd.DataFrame([p for p in participants if p['game']['experiment'] == 'Granollers'])\n",
    "df_participants_OM = pd.DataFrame([p for p in participants if p['game']['experiment'] == 'Olesa de Montserrat'])\n",
    "\n",
    "df_games_TS = df_games.loc[df_games['experiment'] == 'Test']\n",
    "df_games_FP = df_games.loc[df_games['experiment'] == 'FortPienc']\n",
    "df_games_GR = df_games.loc[df_games['experiment'] == 'Granollers']\n",
    "df_games_OM = df_games.loc[df_games['experiment'] == 'Olesa de Montserrat']\n",
    "\n",
    "print '----------------------'\n",
    "print 'Games and Participants'\n",
    "print 'TS: ' + str(len(df_games_TS)) + '(' + str(6*len(df_games_TS)) + ' p.)' \n",
    "print 'FP: ' + str(len(df_games_FP)) + '(' + str(6*len(df_games_FP)) + ' p.)' \n",
    "print 'GR: ' + str(len(df_games_GR)) + '(' + str(6*len(df_games_GR)) + ' p.)' \n",
    "print 'OM: ' + str(len(df_games_OM)) + '(' + str(6*len(df_games_OM)) + ' p.)' \n",
    "\n",
    "print '------------------'\n",
    "print 'Valid Participants'\n",
    "print 'TS: ' + str(len(df_participants_TS))\n",
    "print 'FP: ' + str(len(df_participants_FP))\n",
    "print 'GR: ' + str(len(df_participants_GR))\n",
    "print 'TS: ' + str(len(df_participants_OM))\n"
   ]
  },
  {
   "cell_type": "code",
   "execution_count": null,
   "metadata": {},
   "outputs": [],
   "source": []
  },
  {
   "cell_type": "markdown",
   "metadata": {},
   "source": [
    "### Sociodemographics"
   ]
  },
  {
   "cell_type": "code",
   "execution_count": 5,
   "metadata": {},
   "outputs": [],
   "source": [
    "text_dataset = 'socio_FP' \n",
    "participants = participants_FP\n",
    "df_participants_socio = pd.DataFrame(list(df_participants_FP['socio']))\n"
   ]
  },
  {
   "cell_type": "markdown",
   "metadata": {},
   "source": [
    "#### Identitat de genere\n",
    "\n",
    "|  |socio_pr1|\n",
    "|----------|\n",
    "|r1| Home | \n",
    "|r2| Dona | \n",
    "|r3| No binària | \n",
    "|r4| No vull contestar |\n",
    "\n",
    "#### Rang d'edat\n",
    "\n",
    "|  |socio_pr2| \n",
    "|------------|\n",
    "|r1| Menor de 14 | \n",
    "|r2| 14 - 17 | \n",
    "|r3| 18 - 24 | \n",
    "|r4| 25 - 34 | \n",
    "|r5| 35 - 44 | \n",
    "|r6| 45 - 54 | \n",
    "|r7| 55 - 64 | \n",
    "|r8| Major de 65|"
   ]
  },
  {
   "cell_type": "code",
   "execution_count": 6,
   "metadata": {},
   "outputs": [
    {
     "name": "stdout",
     "output_type": "stream",
     "text": [
      "-----\n",
      "Total Participants: 76\n",
      "Total Women: 46 - 0.61\n",
      "Total Men:  30 - 0.39\n",
      "Total Other:  0 - 0.00\n",
      "-----\n"
     ]
    },
    {
     "name": "stderr",
     "output_type": "stream",
     "text": [
      "/usr/local/lib/python2.7/site-packages/matplotlib/font_manager.py:1288: UserWarning: findfont: Font family [u'Helvetica'] not found. Falling back to Bitstream Vera Sans\n",
      "  (prop.get_family(), self.defaultFamily[fontext]))\n",
      "/usr/local/lib/python2.7/site-packages/matplotlib/font_manager.py:1288: UserWarning: findfont: Font family [u'Helvetica'] not found. Falling back to Bitstream Vera Sans\n",
      "  (prop.get_family(), self.defaultFamily[fontext]))\n"
     ]
    },
    {
     "data": {
      "text/plain": [
       "<matplotlib.figure.Figure at 0x118ffe9d0>"
      ]
     },
     "metadata": {},
     "output_type": "display_data"
    },
    {
     "data": {
      "image/png": "[encoded data removed]",
      "text/plain": [
       "<matplotlib.figure.Figure at 0x118ffebd0>"
      ]
     },
     "metadata": {},
     "output_type": "display_data"
    }
   ],
   "source": [
    "socio_pr2_women = [p['socio']['socio_pr2'] for p in participants if p['socio']['socio_pr1'] == 'W']\n",
    "socio_pr2_men = [p['socio']['socio_pr2'] for p in participants if p['socio']['socio_pr1'] == 'M']\n",
    "socio_pr2_none = [p['socio']['socio_pr2'] for p in participants if p['socio']['socio_pr1'] != 'W' and p['socio']['socio_pr1'] != 'M']\n",
    "\n",
    "print ('-----')\n",
    "print ('Total Participants: %d' %(len(participants)))\n",
    "print ('Total Women: %d - %.2f' %(len(socio_pr2_women), float(len(socio_pr2_women))/float(len(participants))))\n",
    "print ('Total Men:  %d - %.2f' %(len(socio_pr2_men), float(len(socio_pr2_men))/float(len(participants))))\n",
    "print ('Total Other:  %d - %.2f' %(len(socio_pr2_none), float(len(socio_pr2_none))/float(len(participants))))\n",
    "print ('-----')\n",
    "\n",
    "\n",
    "df_women = pd.DataFrame({'label':['<14', '14-17', '18-24', '25-34', '35-44', '45-54', '55-64', '>64'], \n",
    "                         'value':[socio_pr2_women.count('r1'), socio_pr2_women.count('r2'), socio_pr2_women.count('r3'), \n",
    "                                  socio_pr2_women.count('r4'), socio_pr2_women.count('r5'), socio_pr2_women.count('r6'), \n",
    "                                  socio_pr2_women.count('r7'), socio_pr2_women.count('r8')]})\n",
    "\n",
    "df_men = pd.DataFrame({'label':['<14', '14-17', '18-24', '25-34', '35-44', '45-54', '55-64', '>64'],\n",
    "                       'value':[socio_pr2_men.count('r1'), socio_pr2_men.count('r2'), socio_pr2_men.count('r3'), \n",
    "                            socio_pr2_men.count('r4'), socio_pr2_men.count('r5'), socio_pr2_men.count('r6'), \n",
    "                            socio_pr2_men.count('r7'), socio_pr2_men.count('r8')]})\n",
    "\n",
    "max_y = 10\n",
    "\n",
    "df_gender = pd.DataFrame()\n",
    "df_gender['men'] = df_men['value']\n",
    "df_gender['women'] = df_women['value']\n",
    "\n",
    "plt.clf()\n",
    "fig, ax = plt.subplots()\n",
    "ax = df_gender[['men', 'women']].plot.bar(stacked=True, width=1, position=0.5, ax=ax, alpha=1, color=[colors[0], colors[1]])\n",
    "max_y = 50\n",
    "plt.xticks(np.arange(0,9),('<14', '14-17', '18-24', '25-34', '35-44', '45-54', '55-64', '>64'), **ticks_font)\n",
    "plt.yticks(**ticks_font)\n",
    "plt.xlabel('Edat', **axis_font)\n",
    "plt.ylabel('Total Participants', **axis_font)\n",
    "plt.legend(['Homes','Dones'])\n",
    "plt.ylim(0,max_y)\n",
    "\n",
    "plt.savefig('figures/01_'+text_dataset+'.png', bbox_inches='tight', dpi=300)\n"
   ]
  },
  {
   "cell_type": "markdown",
   "metadata": {},
   "source": [
    "#### On vius? (CP)\n",
    "\n",
    "| |socio_pr3|\n",
    "|-----------|\n",
    "|**Granollers**|08401 / 08402 / 08403 |\n",
    "|**Olesa de Montserrat**| 08640 |\n",
    "|**Fort Pienc**| 08013 |"
   ]
  },
  {
   "cell_type": "markdown",
   "metadata": {},
   "source": [
    "#### Fort Pienc"
   ]
  },
  {
   "cell_type": "code",
   "execution_count": 7,
   "metadata": {},
   "outputs": [
    {
     "name": "stdout",
     "output_type": "stream",
     "text": [
      "                 label  value\n",
      "0           Fort Pienc     35\n",
      "1  Fora de\\nFort Pienc     41\n"
     ]
    },
    {
     "data": {
      "text/plain": [
       "<matplotlib.figure.Figure at 0x118f32c50>"
      ]
     },
     "metadata": {},
     "output_type": "display_data"
    },
    {
     "data": {
      "image/png": "[encoded data removed]",
      "text/plain": [
       "<matplotlib.figure.Figure at 0x118ffe610>"
      ]
     },
     "metadata": {},
     "output_type": "display_data"
    }
   ],
   "source": [
    "socio_pr3 = [p['socio']['socio_pr3'] for p in participants]\n",
    "\n",
    "################\n",
    "## Fort Pienc ##\n",
    "################\n",
    "fortpienc = socio_pr3.count('08013') + socio_pr3.count('8013')\n",
    "fora_fortpienc = len(socio_pr3) - fortpienc\n",
    "\n",
    "df_fortpienc = pd.DataFrame({'label':['Fort Pienc', 'Fora de\\nFort Pienc'], \n",
    "                              'value':[fortpienc, fora_fortpienc]})\n",
    "\n",
    "print df_fortpienc\n",
    "\n",
    "\n",
    "plt.clf()\n",
    "plt_fortpienc = df_fortpienc.plot.bar(x='label', y='value', rot=0, width=1, color=colors[0], edgecolor = \"white\")\n",
    "\n",
    "max_y = 50\n",
    "plt_fortpienc.get_legend().remove()\n",
    "plt.xticks(**ticks_font)\n",
    "plt.yticks(**ticks_font)\n",
    "plt.xlabel('', **axis_font)\n",
    "plt.ylabel('Total Participants', **axis_font)\n",
    "plt.ylim(0,max_y)\n",
    "\n",
    "plt.savefig('figures/02_fortpienc_'+text_dataset+'.png', bbox_inches='tight', dpi=300)"
   ]
  },
  {
   "cell_type": "markdown",
   "metadata": {},
   "source": [
    "#### Nivell d'estudis finalitzats\n",
    "\n",
    "|  | socio_pr4 |\n",
    "|------------------------------|\n",
    "|r1|Cap|\n",
    "|r2|Obligatoris (primària, EGB, ESO)|\n",
    "|r3|Secundaris generals (batxillerat, PREU, BUP, COU)|\n",
    "|r4|Secundaris professionals (comerç, FP1, FP2, mòduls, grau mitja/superior)|\n",
    "|r5|Universitaris (grau, diplomatura, llicenciatura, màster, postgrau, doctorat)|\n",
    "|r6|Altres|"
   ]
  },
  {
   "cell_type": "code",
   "execution_count": 8,
   "metadata": {},
   "outputs": [
    {
     "name": "stderr",
     "output_type": "stream",
     "text": [
      "/usr/local/lib/python2.7/site-packages/pandas/core/series.py:851: FutureWarning: \n",
      "Passing list-likes to .loc or [] with any missing label will raise\n",
      "KeyError in the future, you can use .reindex() as an alternative.\n",
      "\n",
      "See the documentation here:\n",
      "https://pandas.pydata.org/pandas-docs/stable/indexing.html#deprecate-loc-reindex-listlike\n",
      "  return self.loc[key]\n"
     ]
    },
    {
     "data": {
      "text/plain": [
       "r1     NaN\n",
       "r2     7.0\n",
       "r3    16.0\n",
       "r4     9.0\n",
       "r5    44.0\n",
       "r6     NaN\n",
       "Name: socio_pr4, dtype: float64"
      ]
     },
     "execution_count": 8,
     "metadata": {},
     "output_type": "execute_result"
    },
    {
     "data": {
      "image/png": "[encoded data removed]",
      "text/plain": [
       "<matplotlib.figure.Figure at 0x118f4db90>"
      ]
     },
     "metadata": {},
     "output_type": "display_data"
    }
   ],
   "source": [
    "\n",
    "plt.clf()\n",
    "\n",
    "plt_studies = df_participants_socio['socio_pr4'].value_counts()[['r1', 'r2', 'r3', 'r4', 'r5', 'r6']].plot(kind='bar', rot=0, width=1, color=colors[0], edgecolor = \"white\")\n",
    "#plt_studies.set_xticklabels(['Cap', 'Obligatoris', 'Secundaris\\nGenerals', 'Secundaris\\nProfessionals', 'Universitaris', 'Altres'])\n",
    "plt_studies.set_xticklabels(['A', 'B', 'C', 'D', 'E', 'F'])\n",
    "\n",
    "max_y = 50\n",
    "plt.xticks(**ticks_font)\n",
    "plt.yticks(**ticks_font)\n",
    "plt.xlabel('', **axis_font)\n",
    "plt.ylabel('Total Participants', **axis_font)\n",
    "plt.ylim(0,max_y)\n",
    "\n",
    "#plt.text(0, max_y - 20, \n",
    "#         'A: Cap\\nB: Obligatoris\\nC: Secundaris Generals\\nD: Secundaris Professionals\\nE: Universitaris\\nF: Altres',\n",
    "#         **ticks_font)\n",
    "\n",
    "plt.savefig('figures/04_'+text_dataset+'.png', bbox_inches='tight', dpi=300)\n",
    "\n",
    "df_participants_socio['socio_pr4'].value_counts()[['r1', 'r2', 'r3', 'r4', 'r5', 'r6']]\n",
    "\n",
    "\n",
    "\n"
   ]
  },
  {
   "cell_type": "markdown",
   "metadata": {},
   "source": [
    "#### Amb qui vius?\n",
    "\n",
    "\n",
    "|| socio_pr5 |\n",
    "|------------|\n",
    "|r1|Sol|\n",
    "|r2|Llar sense persones a càrrec|\n",
    "|r3|Llar amb persones a càrrec|\n",
    "|r4|Més persones que no són parella|"
   ]
  },
  {
   "cell_type": "code",
   "execution_count": 9,
   "metadata": {},
   "outputs": [
    {
     "data": {
      "text/plain": [
       "r1     9\n",
       "r2    12\n",
       "r3    45\n",
       "r4    10\n",
       "Name: socio_pr5, dtype: int64"
      ]
     },
     "execution_count": 9,
     "metadata": {},
     "output_type": "execute_result"
    },
    {
     "data": {
      "image/png": "[encoded data removed]",
      "text/plain": [
       "<matplotlib.figure.Figure at 0x119d6c210>"
      ]
     },
     "metadata": {},
     "output_type": "display_data"
    }
   ],
   "source": [
    "plt_who_lives = df_participants_socio['socio_pr5'].value_counts()[['r1', 'r2', 'r3', 'r4']].plot(kind='bar', rot=0, width=1, color=colors[0], edgecolor = \"white\")\n",
    "\n",
    "max_y = 50\n",
    "# plt_studies.get_legend().remove()\n",
    "#plt_who_lives.set_xticklabels(['Sol', 'Llar sense persones\\na carrec', 'Llar amb persones\\na carrec', 'Mes persones que\\nno son parella'])\n",
    "plt_who_lives.set_xticklabels(['A', 'B', 'C', 'D'])\n",
    "\n",
    "plt.xticks(**ticks_font)\n",
    "plt.yticks(**ticks_font)\n",
    "plt.xlabel('', **axis_font)\n",
    "plt.ylabel('Total Participants', **axis_font)\n",
    "plt.ylim(0,max_y)\n",
    "#plt.text(0, max_y - 15, \n",
    "#         'A: Sol\\nB: Llar sense persones a carrec\\nC: Llar amb persones a carrec\\nD: Mes persones que no son parella',\n",
    "#         **ticks_font)\n",
    "plt.savefig('figures/05_'+text_dataset+'.png', bbox_inches='tight', dpi=300)\n",
    "\n",
    "df_participants_socio['socio_pr5'].value_counts()[['r1', 'r2', 'r3', 'r4']]\n"
   ]
  },
  {
   "cell_type": "markdown",
   "metadata": {},
   "source": [
    "#### Règim de tinença de la teva llar\n",
    "| |socio_pr6|\n",
    "|----------|\n",
    "|r1|En propietat|\n",
    "|r2|En propietat pendent de pagament (hipoteca)|\n",
    "|r3|En lloguer o relloguer a preu de mercat|\n",
    "|r4|En lloguer o relloguer a preu inferior al de mercat|\n",
    "|r5|En cessió gratuïta|\n",
    "|r6|Habitació de lloguer|\n",
    "|r7|Ocupació|\n",
    "|r8|Altres|"
   ]
  },
  {
   "cell_type": "code",
   "execution_count": 10,
   "metadata": {},
   "outputs": [
    {
     "data": {
      "text/plain": [
       "r1    24.0\n",
       "r2    15.0\n",
       "r3    19.0\n",
       "r4    10.0\n",
       "r5     2.0\n",
       "r6     3.0\n",
       "r7     NaN\n",
       "r8     3.0\n",
       "Name: socio_pr6, dtype: float64"
      ]
     },
     "execution_count": 10,
     "metadata": {},
     "output_type": "execute_result"
    },
    {
     "data": {
      "image/png": "[encoded data removed]",
      "text/plain": [
       "<matplotlib.figure.Figure at 0x1191281d0>"
      ]
     },
     "metadata": {},
     "output_type": "display_data"
    }
   ],
   "source": [
    "plt.clf()\n",
    "plt_home_tenancy = df_participants_socio['socio_pr6'].value_counts()[['r1', 'r2', 'r3', 'r4','r5', 'r6', 'r7', 'r8']].plot(kind='bar', rot=0, width=1, color=colors[0], edgecolor = \"white\")\n",
    "# plt_home_tenancy.set_xticklabels(['En propietat', 'En propietat pendent de pagament (hipoteca)', 'En lloguer o relloguer a preu de mercat', 'En lloguer o relloguer a preu inferior al de mercat', 'En cessio gratuita', 'Habitacio de lloguer', 'Ocupacio', 'Altres'])\n",
    "plt_home_tenancy.set_xticklabels(['A', 'B', 'C', 'D', 'E', 'F', 'G', 'H'])\n",
    "\n",
    "max_y = 30\n",
    "\n",
    "plt.xticks(**ticks_font)\n",
    "plt.yticks(**ticks_font)\n",
    "plt.xlabel('', **axis_font)\n",
    "plt.ylabel('Total Participants', **axis_font)\n",
    "#plt.title('Regim de tinenca de la teva llar', **title_font)\n",
    "plt.ylim(0,max_y)\n",
    "\n",
    "#plt.text(0, max_y - 25, \n",
    "#         'A: En propietat\\nB: En propietat pendent de pagament (hipoteca)\\nC: En lloguer o relloguer a preu de mercat\\nD: En lloguer o relloguer a preu inferior al de mercat\\nE: En cessio gratuita\\nF: Habitacio de lloguer\\nG: Ocupacio\\nH: Altres',\n",
    "#         **ticks_font)\n",
    "plt.savefig('figures/06_'+text_dataset+'.png', bbox_inches='tight', dpi=300)\n",
    "\n",
    "df_participants_socio['socio_pr6'].value_counts()[['r1', 'r2', 'r3', 'r4','r5', 'r6', 'r7', 'r8']]\n"
   ]
  },
  {
   "cell_type": "markdown",
   "metadata": {},
   "source": [
    "#### Ets propietari d’algun habitatge que està en règim de lloguer?\n",
    "||socio_pr7|\n",
    "|----------|\n",
    "|r1|Sí|\n",
    "|r2|No|\n",
    "|r3|No vull contestar|"
   ]
  },
  {
   "cell_type": "code",
   "execution_count": 11,
   "metadata": {},
   "outputs": [
    {
     "data": {
      "text/plain": [
       "r1     9.0\n",
       "r2    67.0\n",
       "r3     NaN\n",
       "Name: socio_pr7, dtype: float64"
      ]
     },
     "execution_count": 11,
     "metadata": {},
     "output_type": "execute_result"
    },
    {
     "data": {
      "image/png": "[encoded data removed]",
      "text/plain": [
       "<matplotlib.figure.Figure at 0x11a01af10>"
      ]
     },
     "metadata": {},
     "output_type": "display_data"
    }
   ],
   "source": [
    "plt.clf()\n",
    "plt_owner = df_participants_socio['socio_pr7'].value_counts()[['r1', 'r2', 'r3']].plot(kind='bar', rot=0, width=1, color=colors[0], edgecolor = \"white\")\n",
    "\n",
    "max_y = 70\n",
    "#plt_studies.get_legend().remove()\n",
    "plt_owner.set_xticklabels(['Si', 'No', 'NC'])\n",
    "# plt_owner.set_xticklabels(['A', 'B', 'C'])\n",
    "\n",
    "plt.xticks(**ticks_font)\n",
    "plt.yticks(**ticks_font)\n",
    "plt.xlabel('', **axis_font)\n",
    "plt.ylabel('Total Participants', **axis_font)\n",
    "#plt.title('Ets propietari d algun habitatge que esta en regim de lloguer?', **title_font)\n",
    "plt.ylim(0,max_y)\n",
    "\n",
    "plt.savefig('figures/07_'+text_dataset+'.png', bbox_inches='tight', dpi=300)\n",
    "\n",
    "df_participants_socio['socio_pr7'].value_counts()[['r1', 'r2', 'r3']]\n",
    "\n"
   ]
  },
  {
   "cell_type": "markdown",
   "metadata": {},
   "source": [
    "### Frame"
   ]
  },
  {
   "cell_type": "code",
   "execution_count": 12,
   "metadata": {},
   "outputs": [
    {
     "data": {
      "text/html": [
       "<div>\n",
       "<style scoped>\n",
       "    .dataframe tbody tr th:only-of-type {\n",
       "        vertical-align: middle;\n",
       "    }\n",
       "\n",
       "    .dataframe tbody tr th {\n",
       "        vertical-align: top;\n",
       "    }\n",
       "\n",
       "    .dataframe thead th {\n",
       "        text-align: right;\n",
       "    }\n",
       "</style>\n",
       "<table border=\"1\" class=\"dataframe\">\n",
       "  <thead>\n",
       "    <tr style=\"text-align: right;\">\n",
       "      <th></th>\n",
       "      <th>frame_pr1</th>\n",
       "      <th>frame_pr2</th>\n",
       "      <th>frame_pr3</th>\n",
       "      <th>frame_pr4</th>\n",
       "      <th>frame_pr5</th>\n",
       "      <th>frame_pr6</th>\n",
       "    </tr>\n",
       "  </thead>\n",
       "  <tbody>\n",
       "    <tr>\n",
       "      <th>71</th>\n",
       "      <td>r3</td>\n",
       "      <td>r3</td>\n",
       "      <td>r3</td>\n",
       "      <td>r8</td>\n",
       "      <td>r7</td>\n",
       "      <td>r3</td>\n",
       "    </tr>\n",
       "    <tr>\n",
       "      <th>72</th>\n",
       "      <td>r2</td>\n",
       "      <td>r3</td>\n",
       "      <td>r3</td>\n",
       "      <td>r6</td>\n",
       "      <td>r1</td>\n",
       "      <td>r3</td>\n",
       "    </tr>\n",
       "    <tr>\n",
       "      <th>73</th>\n",
       "      <td>r3</td>\n",
       "      <td>r3</td>\n",
       "      <td>r3</td>\n",
       "      <td>r8</td>\n",
       "      <td>r3</td>\n",
       "      <td>r2</td>\n",
       "    </tr>\n",
       "    <tr>\n",
       "      <th>74</th>\n",
       "      <td>r2</td>\n",
       "      <td>r3</td>\n",
       "      <td>r2</td>\n",
       "      <td>r7</td>\n",
       "      <td>r4</td>\n",
       "      <td>r1</td>\n",
       "    </tr>\n",
       "    <tr>\n",
       "      <th>75</th>\n",
       "      <td>r1</td>\n",
       "      <td>r2</td>\n",
       "      <td>r2</td>\n",
       "      <td>r6</td>\n",
       "      <td>r1</td>\n",
       "      <td>r1</td>\n",
       "    </tr>\n",
       "  </tbody>\n",
       "</table>\n",
       "</div>"
      ],
      "text/plain": [
       "   frame_pr1 frame_pr2 frame_pr3 frame_pr4 frame_pr5 frame_pr6\n",
       "71        r3        r3        r3        r8        r7        r3\n",
       "72        r2        r3        r3        r6        r1        r3\n",
       "73        r3        r3        r3        r8        r3        r2\n",
       "74        r2        r3        r2        r7        r4        r1\n",
       "75        r1        r2        r2        r6        r1        r1"
      ]
     },
     "execution_count": 12,
     "metadata": {},
     "output_type": "execute_result"
    }
   ],
   "source": [
    "text_dataset = 'frame_FP' \n",
    "df_participants_frame = pd.DataFrame(list(df_participants_FP['frame']))\n",
    "\n",
    "df_participants_frame.tail()"
   ]
  },
  {
   "cell_type": "markdown",
   "metadata": {},
   "source": [
    "#### Codiseny\n",
    "\n",
    "**pr1:** En quina mesura comparteixes la inquietud triada pels veïns que han participat en el co-disseny d'aquesta recerca sobre el tema de l'habitatge?\n",
    "\n"
   ]
  },
  {
   "cell_type": "code",
   "execution_count": 13,
   "metadata": {},
   "outputs": [
    {
     "data": {
      "image/png": "[encoded data removed]",
      "text/plain": [
       "<matplotlib.figure.Figure at 0x11a0872d0>"
      ]
     },
     "metadata": {},
     "output_type": "display_data"
    },
    {
     "data": {
      "text/plain": [
       "r1    0.052632\n",
       "r2    0.289474\n",
       "r3    0.657895\n",
       "Name: frame_pr1, dtype: float64"
      ]
     },
     "execution_count": 13,
     "metadata": {},
     "output_type": "execute_result"
    }
   ],
   "source": [
    "pr1_counts = df_participants_frame['frame_pr1'].value_counts(normalize=True)[['r1', 'r2', 'r3']]\n",
    "pr1_counts=pr1_counts.fillna(0)\n",
    "\n",
    "labels = ['Poc', 'Normal', 'Molt']\n",
    "\n",
    "fig = plt.figure(figsize=(5,5))\n",
    "circle = plt.Circle((0,0),0.6,color='white')\n",
    "\n",
    "patches, texts = plt.pie(pr1_counts, labels=labels, colors=tricolors_green, \n",
    "                                    wedgeprops={'linewidth': 2, 'linestyle': 'solid', 'antialiased': True, 'edgecolor': 'white'})\n",
    "\n",
    "p=plt.gcf()\n",
    "p.gca().add_artist(circle)\n",
    "#plt.title('Regulacio fiscal per ajuts', **title_font)\n",
    "plt.savefig('figures/01_'+text_dataset+'.png', bbox_inches='tight', dpi=300)\n",
    "plt.show()\n",
    "\n",
    "pr1_counts"
   ]
  },
  {
   "cell_type": "markdown",
   "metadata": {},
   "source": [
    "#### Polítiques Públiques"
   ]
  },
  {
   "cell_type": "markdown",
   "metadata": {},
   "source": [
    "**pr2:** En quina mesura estàs d'acord amb una regulació que limiti el preu del lloguer? **pr3:** En quina mesura estàs d'acord amb una regulació fiscal que permeti la concessió d'ajuts per facilitar l'accés a l'habitatge i mantenir el preu?\n",
    "\n",
    "||frame_pr2|frame_pr3|\n",
    "|---------------------|\n",
    "|r1|Poc|Poc|\n",
    "|r2|Normal|Normal|\n",
    "|r3|Molt|Molt|\n"
   ]
  },
  {
   "cell_type": "code",
   "execution_count": 14,
   "metadata": {},
   "outputs": [
    {
     "data": {
      "image/png": "[encoded data removed]",
      "text/plain": [
       "<matplotlib.figure.Figure at 0x11ca1edd0>"
      ]
     },
     "metadata": {},
     "output_type": "display_data"
    },
    {
     "data": {
      "text/plain": [
       "r1    0.078947\n",
       "r2    0.131579\n",
       "r3    0.789474\n",
       "Name: frame_pr2, dtype: float64"
      ]
     },
     "execution_count": 14,
     "metadata": {},
     "output_type": "execute_result"
    }
   ],
   "source": [
    "pr2_counts = df_participants_frame['frame_pr2'].value_counts(normalize=True)[['r1', 'r2', 'r3']]\n",
    "\n",
    "pr2_counts=pr2_counts.fillna(0)\n",
    "\n",
    "\n",
    "fig = plt.figure(figsize=(5,5))\n",
    "circle = plt.Circle((0,0),0.6,color='white')\n",
    "\n",
    "plt.pie(pr2_counts, labels=labels, \n",
    "        colors=tricolors_green, \n",
    "        wedgeprops={'linewidth': 2, 'linestyle': 'solid', 'antialiased': True, 'edgecolor': 'white'})\n",
    "\n",
    "p=plt.gcf()\n",
    "p.gca().add_artist(circle)\n",
    "#plt.title('Regulacio que limita el preu', **title_font)\n",
    "plt.savefig('figures/02_'+text_dataset+'.png', bbox_inches='tight', dpi=300)\n",
    "\n",
    "plt.show()\n",
    "\n",
    "pr2_counts"
   ]
  },
  {
   "cell_type": "code",
   "execution_count": 15,
   "metadata": {},
   "outputs": [
    {
     "data": {
      "image/png": "[encoded data removed]",
      "text/plain": [
       "<matplotlib.figure.Figure at 0x11cb2dcd0>"
      ]
     },
     "metadata": {},
     "output_type": "display_data"
    },
    {
     "data": {
      "text/plain": [
       "r1    0.065789\n",
       "r2    0.144737\n",
       "r3    0.789474\n",
       "Name: frame_pr3, dtype: float64"
      ]
     },
     "execution_count": 15,
     "metadata": {},
     "output_type": "execute_result"
    }
   ],
   "source": [
    "pr3_counts = df_participants_frame['frame_pr3'].value_counts(normalize=True)[['r1', 'r2', 'r3']]\n",
    "pr3_counts=pr3_counts.fillna(0)\n",
    "\n",
    "labels = ['Poc', 'Normal', 'Molt']\n",
    "\n",
    "fig = plt.figure(figsize=(5,5))\n",
    "circle = plt.Circle((0,0),0.6,color='white')\n",
    "\n",
    "plt.pie(pr3_counts, labels=labels, \n",
    "        colors=tricolors_green, \n",
    "        wedgeprops={'linewidth': 2, 'linestyle': 'solid', 'antialiased': True, 'edgecolor': 'white'})\n",
    "\n",
    "p=plt.gcf()\n",
    "p.gca().add_artist(circle)\n",
    "#plt.title('Regulacio fiscal per ajuts', **title_font)\n",
    "plt.savefig('figures/03_'+text_dataset+'.png', bbox_inches='tight', dpi=300)\n",
    "plt.show()\n",
    "\n",
    "pr3_counts"
   ]
  },
  {
   "cell_type": "markdown",
   "metadata": {},
   "source": [
    "**pr4:** Quin creus que és el preu mig del lloguer d’una casa de 70m2 en bones condicions a {municipi}?"
   ]
  },
  {
   "cell_type": "code",
   "execution_count": 16,
   "metadata": {},
   "outputs": [
    {
     "data": {
      "text/plain": [
       "r1     2\n",
       "r2     1\n",
       "r3     4\n",
       "r4     2\n",
       "r5     9\n",
       "r6    10\n",
       "r7    21\n",
       "r8    27\n",
       "Name: frame_pr4, dtype: int64"
      ]
     },
     "execution_count": 16,
     "metadata": {},
     "output_type": "execute_result"
    },
    {
     "data": {
      "image/png": "[encoded data removed]",
      "text/plain": [
       "<matplotlib.figure.Figure at 0x11d4ef710>"
      ]
     },
     "metadata": {},
     "output_type": "display_data"
    }
   ],
   "source": [
    "df_participants_frame['frame_pr4']\n",
    "\n",
    "\n",
    "plt.clf()\n",
    "plt_rent = df_participants_frame['frame_pr4'].value_counts()[['r1', 'r2', 'r3', 'r4','r5', 'r6', 'r7', 'r8']].plot(kind='bar', rot=0, width=1, color=colors[0], edgecolor = \"white\")\n",
    "plt_rent.set_xticklabels(['300', '400', '500', '600', '700', '800', '900', '1000'])\n",
    "\n",
    "max_y = 50\n",
    "\n",
    "plt.xticks(**ticks_font)\n",
    "plt.yticks(**ticks_font)\n",
    "plt.xlabel('', **axis_font)\n",
    "plt.ylabel('Total Participants', **axis_font)\n",
    "#plt.title('Regim de tinenca de la teva llar', **title_font)\n",
    "plt.ylim(0,max_y)\n",
    "\n",
    "plt.savefig('figures/04_'+text_dataset+'.png', bbox_inches='tight', dpi=300)\n",
    "\n",
    "df_participants_frame['frame_pr4'].value_counts()[['r1', 'r2', 'r3', 'r4','r5', 'r6', 'r7', 'r8']]\n"
   ]
  },
  {
   "cell_type": "markdown",
   "metadata": {},
   "source": [
    "### Despeses Habitatge\n",
    "\n",
    "**pr5:** Quin percentatge dels teus ingressos mensuals nets dediques a despeses associades a l’accés a l’habitatge?\n",
    "**pr6:** Quin percentatge dels teus ingressos mensuals nets consideres just dedicar a despeses associades a l’accés a l’habitatge?\n",
    "\n",
    "||frame_pr5|frame_pr6|\n",
    "|---------------------|\n",
    "|r1|<25%|<25%|\n",
    "|r2|25-34%|25-34%|\n",
    "|r3|35-44%|35-44%|\n",
    "|r4|45-54%|45-54%|\n",
    "|r5|55-64%|55-64%|\n",
    "|r6|65-74%|65-74%|\n",
    "|r7|>74%|>74%|\n"
   ]
  },
  {
   "cell_type": "code",
   "execution_count": 17,
   "metadata": {},
   "outputs": [
    {
     "data": {
      "image/png": "[encoded data removed]",
      "text/plain": [
       "<matplotlib.figure.Figure at 0x11d5c4450>"
      ]
     },
     "metadata": {},
     "output_type": "display_data"
    }
   ],
   "source": [
    "pr5_counts = df_participants_frame['frame_pr5'].value_counts()[['r1', 'r2', 'r3','r4', 'r5', 'r6','r7']]\n",
    "pr6_counts = df_participants_frame['frame_pr6'].value_counts()[['r1', 'r2', 'r3','r4', 'r5', 'r6','r7']]\n",
    "index = ['r1', 'r2', 'r3','r4', 'r5', 'r6','r7']\n",
    "df_expenses = pd.DataFrame({'pr5': pr5_counts, 'pr6': pr6_counts}, index=index)\n",
    "\n",
    "plt_expenses = df_expenses.plot(kind='bar', rot=90, width=0.75, color=colors, edgecolor = \"none\")\n",
    "\n",
    "max_y = 50\n",
    "# plt_expenses.get_legend().remove()\n",
    "plt_expenses.set_xticklabels(['<25%', '25-34%', '35-44%', '45-54%', '55-64%', '65-74%', '>74%'])\n",
    "# plt_expenses.set_xticklabels(['A', 'B', 'C','D', 'E', 'F', 'G'])\n",
    "plt.xticks(**ticks_font)\n",
    "plt.yticks(**ticks_font)\n",
    "plt.xlabel('', **axis_font)\n",
    "plt.ylabel('Total Participants', **axis_font)\n",
    "plt.title('', **title_font)\n",
    "plt.ylim(0,max_y)\n",
    "plt.legend(['Despeses Habitatge', 'Despeses Habitatge Justes'])\n",
    "\n",
    "plt.savefig('figures/05_'+text_dataset+'.png', bbox_inches='tight', dpi=300)\n",
    "\n"
   ]
  },
  {
   "cell_type": "markdown",
   "metadata": {},
   "source": [
    "### Preguntes finals"
   ]
  },
  {
   "cell_type": "code",
   "execution_count": 18,
   "metadata": {},
   "outputs": [],
   "source": [
    "text_dataset = 'final_FP' \n",
    "df_participants_final = pd.DataFrame(list(df_participants_FP['final']))\n",
    "\n",
    "#'final_pr5': u[33], # q: Coneixes iniciatives d’habitatge cooperatiu?\n",
    "#'final_pr6': u[34], # q: En quina mesura creus que les iniciatives d’habitatge cooperatiu poden millorar l’eficiència del model d’habitatge actual? (opcional)\n",
    "    \n",
    "    "
   ]
  },
  {
   "cell_type": "markdown",
   "metadata": {},
   "source": [
    "**pr1:** En quina mesura creus que ha d’haver-hi un control públic de l’habitatge? **pr2:** En quina mesura estàs d’acord amb la necessitat de tenir un sistema que garanteixi la consideració de l’habitatge com un bé de primera necessitat? **pr3:** En quina mesura creus que la presència de pisos buits afecta la situació de l'habitatge al municipi? **pr4:** En quina mesura estàs d’acord amb la necessitat de prioritzar el dret a l’habitatge per a col·lectius vulnerables? \n",
    "\n"
   ]
  },
  {
   "cell_type": "code",
   "execution_count": 19,
   "metadata": {},
   "outputs": [
    {
     "data": {
      "image/png": "[encoded data removed]",
      "text/plain": [
       "<matplotlib.figure.Figure at 0x11d63e090>"
      ]
     },
     "metadata": {},
     "output_type": "display_data"
    }
   ],
   "source": [
    "plt.clf()\n",
    "mapping = {'r1': 1, 'r2': 2, 'r3': 3, 'r4': 4, 'r5': 5, 'r6': 6, 'r7': 7, 'r8': 8}\n",
    "df_participants_final_numeric = df_participants_final.replace({'final_pr1': mapping, 'final_pr2': mapping, 'final_pr3': mapping, 'final_pr4': mapping, 'final_pr5': mapping, 'final_pr6': mapping})\n",
    "ax = sns.boxplot(data=df_participants_final_numeric[['final_pr1','final_pr2','final_pr3','final_pr4']], \n",
    "            orient = 'h', linewidth=0.5, showmeans=False, color=colors[1])\n",
    "\n",
    "ax.set_xticklabels(['0\\nGens', '1', '2', '3', '4', '5', '6', '7\\nMolt'], **ticks_font)\n",
    "ax.set_yticklabels(['Q1', 'Q2', 'Q3', 'Q4'], **ticks_font)\n",
    "plt.savefig('figures/01_04_'+text_dataset+'.png', bbox_inches='tight', dpi=300)\n",
    "\n",
    "#df_participants_final_numeric['final_pr1'].describe()\n",
    "#df_participants_final_numeric['final_pr2'].describe()\n",
    "#df_participants_final_numeric['final_pr3'].describe()\n",
    "#df_participants_final_numeric['final_pr4'].describe()\n"
   ]
  },
  {
   "cell_type": "markdown",
   "metadata": {},
   "source": [
    "### Preu dels lloguer"
   ]
  },
  {
   "cell_type": "code",
   "execution_count": 20,
   "metadata": {},
   "outputs": [
    {
     "data": {
      "text/html": [
       "<div>\n",
       "<style scoped>\n",
       "    .dataframe tbody tr th:only-of-type {\n",
       "        vertical-align: middle;\n",
       "    }\n",
       "\n",
       "    .dataframe tbody tr th {\n",
       "        vertical-align: top;\n",
       "    }\n",
       "\n",
       "    .dataframe thead th {\n",
       "        text-align: right;\n",
       "    }\n",
       "</style>\n",
       "<table border=\"1\" class=\"dataframe\">\n",
       "  <thead>\n",
       "    <tr style=\"text-align: right;\">\n",
       "      <th></th>\n",
       "      <th>id</th>\n",
       "      <th>intervention</th>\n",
       "      <th>house</th>\n",
       "      <th>house_price</th>\n",
       "      <th>round_rented</th>\n",
       "      <th>endowment_final</th>\n",
       "    </tr>\n",
       "  </thead>\n",
       "  <tbody>\n",
       "    <tr>\n",
       "      <th>71</th>\n",
       "      <td>125</td>\n",
       "      <td>BOTH</td>\n",
       "      <td>1</td>\n",
       "      <td>780.033171</td>\n",
       "      <td>12.0</td>\n",
       "      <td>1148.126829</td>\n",
       "    </tr>\n",
       "    <tr>\n",
       "      <th>72</th>\n",
       "      <td>126</td>\n",
       "      <td>NONE</td>\n",
       "      <td>1</td>\n",
       "      <td>916.650000</td>\n",
       "      <td>2.0</td>\n",
       "      <td>1026.350000</td>\n",
       "    </tr>\n",
       "    <tr>\n",
       "      <th>73</th>\n",
       "      <td>127</td>\n",
       "      <td>NONE</td>\n",
       "      <td>1</td>\n",
       "      <td>780.033171</td>\n",
       "      <td>11.0</td>\n",
       "      <td>1162.966829</td>\n",
       "    </tr>\n",
       "    <tr>\n",
       "      <th>74</th>\n",
       "      <td>128</td>\n",
       "      <td>NONE</td>\n",
       "      <td>1</td>\n",
       "      <td>866.468855</td>\n",
       "      <td>7.0</td>\n",
       "      <td>1076.531145</td>\n",
       "    </tr>\n",
       "    <tr>\n",
       "      <th>75</th>\n",
       "      <td>130</td>\n",
       "      <td>NONE</td>\n",
       "      <td>1</td>\n",
       "      <td>873.000000</td>\n",
       "      <td>1.0</td>\n",
       "      <td>1070.000000</td>\n",
       "    </tr>\n",
       "  </tbody>\n",
       "</table>\n",
       "</div>"
      ],
      "text/plain": [
       "     id intervention  house  house_price  round_rented  endowment_final\n",
       "71  125         BOTH      1   780.033171          12.0      1148.126829\n",
       "72  126         NONE      1   916.650000           2.0      1026.350000\n",
       "73  127         NONE      1   780.033171          11.0      1162.966829\n",
       "74  128         NONE      1   866.468855           7.0      1076.531145\n",
       "75  130         NONE      1   873.000000           1.0      1070.000000"
      ]
     },
     "execution_count": 20,
     "metadata": {},
     "output_type": "execute_result"
    }
   ],
   "source": [
    "#text_dataset = 'economy_test' \n",
    "#df_participants_economy = df_participants_TS[['id', 'intervention', 'house', 'house_price', 'round_rented', 'endowment_final']].copy()\n",
    "text_dataset = 'economy_FP' \n",
    "df_participants_economy = df_participants_FP[['id', 'intervention', 'house', 'house_price', 'round_rented', 'endowment_final']].copy()\n",
    "# text_dataset = 'economy_GR' \n",
    "# df_participants_economy\n",
    "# text_dataset = 'economy_OM' \n",
    "# df_participants_economy\n",
    "\n",
    "df_participants_economy.tail()"
   ]
  },
  {
   "cell_type": "markdown",
   "metadata": {},
   "source": [
    "#### Preu mitja que els participants han pagat pel lloguer"
   ]
  },
  {
   "cell_type": "code",
   "execution_count": 21,
   "metadata": {},
   "outputs": [
    {
     "data": {
      "text/plain": [
       "count      75.000000\n",
       "mean      868.577138\n",
       "std        68.573793\n",
       "min       742.888735\n",
       "25%       819.034830\n",
       "50%       873.000000\n",
       "75%       916.650000\n",
       "max      1061.136956\n",
       "Name: house_price, dtype: float64"
      ]
     },
     "execution_count": 21,
     "metadata": {},
     "output_type": "execute_result"
    }
   ],
   "source": [
    "df_participants_economy[df_participants_economy['house'] == 1]['house_price'].describe()\n"
   ]
  },
  {
   "cell_type": "markdown",
   "metadata": {},
   "source": [
    "#### Preu mitja que els participants han pagat pel lloguer segons tractament"
   ]
  },
  {
   "cell_type": "code",
   "execution_count": 22,
   "metadata": {},
   "outputs": [
    {
     "name": "stdout",
     "output_type": "stream",
     "text": [
      "NONE\n"
     ]
    },
    {
     "data": {
      "text/plain": [
       "count      36.000000\n",
       "mean      857.760096\n",
       "std        77.586688\n",
       "min       742.888735\n",
       "25%       787.390073\n",
       "50%       864.305391\n",
       "75%       913.216859\n",
       "max      1061.136956\n",
       "Name: house_price, dtype: float64"
      ]
     },
     "execution_count": 22,
     "metadata": {},
     "output_type": "execute_result"
    }
   ],
   "source": [
    "print 'NONE'\n",
    "df_participants_economy[(df_participants_economy['house'] == 1) & (df_participants_economy['intervention'] == 'NONE')]['house_price'].describe()\n"
   ]
  },
  {
   "cell_type": "code",
   "execution_count": 23,
   "metadata": {},
   "outputs": [
    {
     "name": "stdout",
     "output_type": "stream",
     "text": [
      "BOTH\n"
     ]
    },
    {
     "data": {
      "text/plain": [
       "count     39.000000\n",
       "mean     878.562099\n",
       "std       58.306166\n",
       "min      742.888735\n",
       "25%      866.468855\n",
       "50%      873.000000\n",
       "75%      916.650000\n",
       "max      962.482500\n",
       "Name: house_price, dtype: float64"
      ]
     },
     "execution_count": 23,
     "metadata": {},
     "output_type": "execute_result"
    }
   ],
   "source": [
    "print 'BOTH'\n",
    "df_participants_economy[(df_participants_economy['house'] == 1) & (df_participants_economy['intervention'] == 'BOTH')]['house_price'].describe()\n"
   ]
  },
  {
   "cell_type": "code",
   "execution_count": 24,
   "metadata": {},
   "outputs": [
    {
     "data": {
      "image/png": "[encoded data removed]",
      "text/plain": [
       "<matplotlib.figure.Figure at 0x11c9f7a50>"
      ]
     },
     "metadata": {},
     "output_type": "display_data"
    }
   ],
   "source": [
    "bplot=sns.stripplot(x='intervention', # vertical\n",
    "                    y='house_price',\n",
    "                    orient = 'v',\n",
    "                    data=df_participants_economy, \n",
    "                    jitter=True, \n",
    "                    marker='o', \n",
    "                    palette=colors, \n",
    "                    edgecolor=colors, \n",
    "                    facecolors=\"none\")\n",
    "\n",
    "\n",
    "bplot=sns.boxplot(x='intervention', # vertical\n",
    "                  y='house_price',\n",
    "                  orient = 'v', \n",
    "                  data=df_participants_economy, \n",
    "                  width=.5, \n",
    "                  palette=colors, \n",
    "                  linewidth=1.5,\n",
    "                  #showmeans=True\n",
    "                 )\n",
    "\n",
    "min_y = 500\n",
    "max_y = 1100\n",
    "plt.xticks([0,1], ['Amb Intervencio', 'Sense Intervencio'],**ticks_font)\n",
    "plt.yticks(**ticks_font)\n",
    "plt.xlabel('', **axis_font)\n",
    "plt.ylabel('Preu Lloger', **axis_font)\n",
    "plt.title('', **title_font)\n",
    "plt.ylim(min_y, max_y)\n",
    "\n",
    "plt.savefig('figures/01_'+text_dataset+'.png', bbox_inches='tight', dpi=300)\n"
   ]
  },
  {
   "cell_type": "markdown",
   "metadata": {},
   "source": [
    "### Evolució del mercat"
   ]
  },
  {
   "cell_type": "markdown",
   "metadata": {},
   "source": [
    "#### Mesos que tarden en llogar un habitatge"
   ]
  },
  {
   "cell_type": "code",
   "execution_count": 25,
   "metadata": {},
   "outputs": [
    {
     "data": {
      "text/plain": [
       "count    74.000000\n",
       "mean      5.608108\n",
       "std       3.881172\n",
       "min       1.000000\n",
       "25%       2.000000\n",
       "50%       5.000000\n",
       "75%       9.000000\n",
       "max      12.000000\n",
       "Name: round_rented, dtype: float64"
      ]
     },
     "execution_count": 25,
     "metadata": {},
     "output_type": "execute_result"
    }
   ],
   "source": [
    "text_treatment = 'ALL'\n",
    "df_participants_economy[(df_participants_economy['house'] == 1)]['round_rented'].describe()\n"
   ]
  },
  {
   "cell_type": "code",
   "execution_count": 26,
   "metadata": {},
   "outputs": [
    {
     "name": "stdout",
     "output_type": "stream",
     "text": [
      "NONE\n"
     ]
    },
    {
     "data": {
      "text/plain": [
       "count    35.000000\n",
       "mean      5.971429\n",
       "std       3.951811\n",
       "min       1.000000\n",
       "25%       2.000000\n",
       "50%       5.000000\n",
       "75%      10.000000\n",
       "max      12.000000\n",
       "Name: round_rented, dtype: float64"
      ]
     },
     "execution_count": 26,
     "metadata": {},
     "output_type": "execute_result"
    }
   ],
   "source": [
    "text_treatment = 'NONE'\n",
    "print 'NONE'\n",
    "df_participants_economy[(df_participants_economy['house'] == 1) & (df_participants_economy['intervention'] == 'NONE')]['round_rented'].describe()\n"
   ]
  },
  {
   "cell_type": "code",
   "execution_count": 27,
   "metadata": {},
   "outputs": [
    {
     "name": "stdout",
     "output_type": "stream",
     "text": [
      "BOTH\n"
     ]
    },
    {
     "data": {
      "text/plain": [
       "count    39.000000\n",
       "mean      5.282051\n",
       "std       3.838508\n",
       "min       1.000000\n",
       "25%       2.000000\n",
       "50%       4.000000\n",
       "75%       8.500000\n",
       "max      12.000000\n",
       "Name: round_rented, dtype: float64"
      ]
     },
     "execution_count": 27,
     "metadata": {},
     "output_type": "execute_result"
    }
   ],
   "source": [
    "text_treatment = 'BOTH'\n",
    "print 'BOTH'\n",
    "df_participants_economy[(df_participants_economy['house'] == 1) & (df_participants_economy['intervention'] == 'BOTH')]['round_rented'].describe()\n"
   ]
  },
  {
   "cell_type": "code",
   "execution_count": null,
   "metadata": {},
   "outputs": [],
   "source": []
  },
  {
   "cell_type": "markdown",
   "metadata": {},
   "source": [
    "#### Preus acceptats i no acceptats"
   ]
  },
  {
   "cell_type": "code",
   "execution_count": 28,
   "metadata": {},
   "outputs": [
    {
     "data": {
      "text/html": [
       "<div>\n",
       "<style scoped>\n",
       "    .dataframe tbody tr th:only-of-type {\n",
       "        vertical-align: middle;\n",
       "    }\n",
       "\n",
       "    .dataframe tbody tr th {\n",
       "        vertical-align: top;\n",
       "    }\n",
       "\n",
       "    .dataframe thead th {\n",
       "        text-align: right;\n",
       "    }\n",
       "</style>\n",
       "<table border=\"1\" class=\"dataframe\">\n",
       "  <thead>\n",
       "    <tr style=\"text-align: right;\">\n",
       "      <th></th>\n",
       "      <th>num_round</th>\n",
       "      <th>prices</th>\n",
       "      <th>selections</th>\n",
       "    </tr>\n",
       "  </thead>\n",
       "  <tbody>\n",
       "    <tr>\n",
       "      <th>426</th>\n",
       "      <td>4</td>\n",
       "      <td>914.358375</td>\n",
       "      <td>0</td>\n",
       "    </tr>\n",
       "    <tr>\n",
       "      <th>427</th>\n",
       "      <td>5</td>\n",
       "      <td>868.640456</td>\n",
       "      <td>0</td>\n",
       "    </tr>\n",
       "    <tr>\n",
       "      <th>428</th>\n",
       "      <td>6</td>\n",
       "      <td>912.072479</td>\n",
       "      <td>0</td>\n",
       "    </tr>\n",
       "    <tr>\n",
       "      <th>429</th>\n",
       "      <td>7</td>\n",
       "      <td>866.468855</td>\n",
       "      <td>1</td>\n",
       "    </tr>\n",
       "    <tr>\n",
       "      <th>430</th>\n",
       "      <td>1</td>\n",
       "      <td>873.000000</td>\n",
       "      <td>1</td>\n",
       "    </tr>\n",
       "  </tbody>\n",
       "</table>\n",
       "</div>"
      ],
      "text/plain": [
       "     num_round      prices  selections\n",
       "426          4  914.358375           0\n",
       "427          5  868.640456           0\n",
       "428          6  912.072479           0\n",
       "429          7  866.468855           1\n",
       "430          1  873.000000           1"
      ]
     },
     "execution_count": 28,
     "metadata": {},
     "output_type": "execute_result"
    }
   ],
   "source": [
    "num_round = []\n",
    "selections = []\n",
    "prices = []\n",
    "\n",
    "for d in df_participants_FP['rounds']:\n",
    "    for r in d:\n",
    "        if r['is_selected'] == 1:\n",
    "            num_round.append(r['num_round'])\n",
    "            selections.append(r['selection'])\n",
    "            prices.append(r['price'])\n",
    "            \n",
    "df_prices = pd.DataFrame({'num_round': num_round, 'selections': selections, 'prices': prices})\n",
    "df_prices.tail()\n"
   ]
  },
  {
   "cell_type": "markdown",
   "metadata": {},
   "source": [
    "#### Preu mitjà que els participants han estat disposats a pagar pel lloguer\n"
   ]
  },
  {
   "cell_type": "code",
   "execution_count": 29,
   "metadata": {},
   "outputs": [
    {
     "name": "stdout",
     "output_type": "stream",
     "text": [
      "Preus acceptats\n"
     ]
    },
    {
     "data": {
      "text/plain": [
       "count     130.000000\n",
       "mean      876.580540\n",
       "std        59.293515\n",
       "min       742.888735\n",
       "25%       866.468855\n",
       "50%       873.000000\n",
       "75%       916.650000\n",
       "max      1061.136956\n",
       "Name: prices, dtype: float64"
      ]
     },
     "execution_count": 29,
     "metadata": {},
     "output_type": "execute_result"
    }
   ],
   "source": [
    "print 'Preus acceptats'\n",
    "df_prices[(df_prices['selections'] == 1)]['prices'].describe()\n",
    "#df_prices[(df_prices['selections'] == 1)]['prices'].hist()\n"
   ]
  },
  {
   "cell_type": "code",
   "execution_count": 30,
   "metadata": {},
   "outputs": [
    {
     "name": "stdout",
     "output_type": "stream",
     "text": [
      "Preus no acceptats\n"
     ]
    },
    {
     "data": {
      "text/plain": [
       "count     301.000000\n",
       "mean      888.705258\n",
       "std        62.454859\n",
       "min       742.888735\n",
       "25%       864.302683\n",
       "50%       907.517817\n",
       "75%       916.650000\n",
       "max      1114.193804\n",
       "Name: prices, dtype: float64"
      ]
     },
     "execution_count": 30,
     "metadata": {},
     "output_type": "execute_result"
    }
   ],
   "source": [
    "print 'Preus no acceptats'\n",
    "df_prices[(df_prices['selections'] == 0)]['prices'].describe()\n",
    "#df_prices[(df_prices['selections'] == 0)]['prices'].hist()\n"
   ]
  },
  {
   "cell_type": "code",
   "execution_count": 31,
   "metadata": {
    "scrolled": true
   },
   "outputs": [
    {
     "data": {
      "text/html": [
       "<div>\n",
       "<style scoped>\n",
       "    .dataframe tbody tr th:only-of-type {\n",
       "        vertical-align: middle;\n",
       "    }\n",
       "\n",
       "    .dataframe tbody tr th {\n",
       "        vertical-align: top;\n",
       "    }\n",
       "\n",
       "    .dataframe thead th {\n",
       "        text-align: right;\n",
       "    }\n",
       "</style>\n",
       "<table border=\"1\" class=\"dataframe\">\n",
       "  <thead>\n",
       "    <tr style=\"text-align: right;\">\n",
       "      <th></th>\n",
       "      <th>1</th>\n",
       "      <th>0</th>\n",
       "      <th>perc_1</th>\n",
       "      <th>perc_0</th>\n",
       "      <th>price</th>\n",
       "    </tr>\n",
       "    <tr>\n",
       "      <th>price</th>\n",
       "      <th></th>\n",
       "      <th></th>\n",
       "      <th></th>\n",
       "      <th></th>\n",
       "      <th></th>\n",
       "    </tr>\n",
       "  </thead>\n",
       "  <tbody>\n",
       "    <tr>\n",
       "      <th>742.89</th>\n",
       "      <td>3.0</td>\n",
       "      <td>6.0</td>\n",
       "      <td>0.333333</td>\n",
       "      <td>0.666667</td>\n",
       "      <td>742.89</td>\n",
       "    </tr>\n",
       "    <tr>\n",
       "      <th>744.75</th>\n",
       "      <td>3.0</td>\n",
       "      <td>2.0</td>\n",
       "      <td>0.600000</td>\n",
       "      <td>0.400000</td>\n",
       "      <td>744.75</td>\n",
       "    </tr>\n",
       "    <tr>\n",
       "      <th>746.62</th>\n",
       "      <td>1.0</td>\n",
       "      <td>1.0</td>\n",
       "      <td>0.500000</td>\n",
       "      <td>0.500000</td>\n",
       "      <td>746.62</td>\n",
       "    </tr>\n",
       "    <tr>\n",
       "      <th>780.03</th>\n",
       "      <td>3.0</td>\n",
       "      <td>1.0</td>\n",
       "      <td>0.750000</td>\n",
       "      <td>0.250000</td>\n",
       "      <td>780.03</td>\n",
       "    </tr>\n",
       "    <tr>\n",
       "      <th>780.03</th>\n",
       "      <td>2.0</td>\n",
       "      <td>0.0</td>\n",
       "      <td>1.000000</td>\n",
       "      <td>0.000000</td>\n",
       "      <td>780.03</td>\n",
       "    </tr>\n",
       "    <tr>\n",
       "      <th>781.99</th>\n",
       "      <td>1.0</td>\n",
       "      <td>9.0</td>\n",
       "      <td>0.100000</td>\n",
       "      <td>0.900000</td>\n",
       "      <td>781.99</td>\n",
       "    </tr>\n",
       "    <tr>\n",
       "      <th>783.95</th>\n",
       "      <td>2.0</td>\n",
       "      <td>7.0</td>\n",
       "      <td>0.222222</td>\n",
       "      <td>0.777778</td>\n",
       "      <td>783.95</td>\n",
       "    </tr>\n",
       "    <tr>\n",
       "      <th>785.91</th>\n",
       "      <td>1.0</td>\n",
       "      <td>3.0</td>\n",
       "      <td>0.250000</td>\n",
       "      <td>0.750000</td>\n",
       "      <td>785.91</td>\n",
       "    </tr>\n",
       "    <tr>\n",
       "      <th>787.88</th>\n",
       "      <td>2.0</td>\n",
       "      <td>4.0</td>\n",
       "      <td>0.333333</td>\n",
       "      <td>0.666667</td>\n",
       "      <td>787.88</td>\n",
       "    </tr>\n",
       "    <tr>\n",
       "      <th>819.03</th>\n",
       "      <td>1.0</td>\n",
       "      <td>0.0</td>\n",
       "      <td>1.000000</td>\n",
       "      <td>0.000000</td>\n",
       "      <td>819.03</td>\n",
       "    </tr>\n",
       "    <tr>\n",
       "      <th>819.03</th>\n",
       "      <td>4.0</td>\n",
       "      <td>1.0</td>\n",
       "      <td>0.800000</td>\n",
       "      <td>0.200000</td>\n",
       "      <td>819.03</td>\n",
       "    </tr>\n",
       "    <tr>\n",
       "      <th>821.09</th>\n",
       "      <td>2.0</td>\n",
       "      <td>4.0</td>\n",
       "      <td>0.333333</td>\n",
       "      <td>0.666667</td>\n",
       "      <td>821.09</td>\n",
       "    </tr>\n",
       "    <tr>\n",
       "      <th>823.15</th>\n",
       "      <td>0.0</td>\n",
       "      <td>7.0</td>\n",
       "      <td>0.000000</td>\n",
       "      <td>1.000000</td>\n",
       "      <td>823.15</td>\n",
       "    </tr>\n",
       "    <tr>\n",
       "      <th>825.21</th>\n",
       "      <td>0.0</td>\n",
       "      <td>9.0</td>\n",
       "      <td>0.000000</td>\n",
       "      <td>1.000000</td>\n",
       "      <td>825.21</td>\n",
       "    </tr>\n",
       "    <tr>\n",
       "      <th>827.28</th>\n",
       "      <td>1.0</td>\n",
       "      <td>8.0</td>\n",
       "      <td>0.111111</td>\n",
       "      <td>0.888889</td>\n",
       "      <td>827.28</td>\n",
       "    </tr>\n",
       "    <tr>\n",
       "      <th>829.35</th>\n",
       "      <td>0.0</td>\n",
       "      <td>6.0</td>\n",
       "      <td>0.000000</td>\n",
       "      <td>1.000000</td>\n",
       "      <td>829.35</td>\n",
       "    </tr>\n",
       "    <tr>\n",
       "      <th>862.14</th>\n",
       "      <td>0.0</td>\n",
       "      <td>1.0</td>\n",
       "      <td>0.000000</td>\n",
       "      <td>1.000000</td>\n",
       "      <td>862.14</td>\n",
       "    </tr>\n",
       "    <tr>\n",
       "      <th>862.14</th>\n",
       "      <td>2.0</td>\n",
       "      <td>4.0</td>\n",
       "      <td>0.333333</td>\n",
       "      <td>0.666667</td>\n",
       "      <td>862.14</td>\n",
       "    </tr>\n",
       "    <tr>\n",
       "      <th>864.30</th>\n",
       "      <td>2.0</td>\n",
       "      <td>6.0</td>\n",
       "      <td>0.250000</td>\n",
       "      <td>0.750000</td>\n",
       "      <td>864.30</td>\n",
       "    </tr>\n",
       "    <tr>\n",
       "      <th>866.47</th>\n",
       "      <td>7.0</td>\n",
       "      <td>9.0</td>\n",
       "      <td>0.437500</td>\n",
       "      <td>0.562500</td>\n",
       "      <td>866.47</td>\n",
       "    </tr>\n",
       "    <tr>\n",
       "      <th>868.64</th>\n",
       "      <td>6.0</td>\n",
       "      <td>12.0</td>\n",
       "      <td>0.333333</td>\n",
       "      <td>0.666667</td>\n",
       "      <td>868.64</td>\n",
       "    </tr>\n",
       "    <tr>\n",
       "      <th>870.82</th>\n",
       "      <td>6.0</td>\n",
       "      <td>8.0</td>\n",
       "      <td>0.428571</td>\n",
       "      <td>0.571429</td>\n",
       "      <td>870.82</td>\n",
       "    </tr>\n",
       "    <tr>\n",
       "      <th>873.00</th>\n",
       "      <td>35.0</td>\n",
       "      <td>40.0</td>\n",
       "      <td>0.466667</td>\n",
       "      <td>0.533333</td>\n",
       "      <td>873.00</td>\n",
       "    </tr>\n",
       "    <tr>\n",
       "      <th>907.52</th>\n",
       "      <td>0.0</td>\n",
       "      <td>1.0</td>\n",
       "      <td>0.000000</td>\n",
       "      <td>1.000000</td>\n",
       "      <td>907.52</td>\n",
       "    </tr>\n",
       "    <tr>\n",
       "      <th>907.52</th>\n",
       "      <td>0.0</td>\n",
       "      <td>4.0</td>\n",
       "      <td>0.000000</td>\n",
       "      <td>1.000000</td>\n",
       "      <td>907.52</td>\n",
       "    </tr>\n",
       "    <tr>\n",
       "      <th>909.79</th>\n",
       "      <td>1.0</td>\n",
       "      <td>10.0</td>\n",
       "      <td>0.090909</td>\n",
       "      <td>0.909091</td>\n",
       "      <td>909.79</td>\n",
       "    </tr>\n",
       "    <tr>\n",
       "      <th>912.07</th>\n",
       "      <td>2.0</td>\n",
       "      <td>16.0</td>\n",
       "      <td>0.111111</td>\n",
       "      <td>0.888889</td>\n",
       "      <td>912.07</td>\n",
       "    </tr>\n",
       "    <tr>\n",
       "      <th>914.36</th>\n",
       "      <td>6.0</td>\n",
       "      <td>22.0</td>\n",
       "      <td>0.214286</td>\n",
       "      <td>0.785714</td>\n",
       "      <td>914.36</td>\n",
       "    </tr>\n",
       "    <tr>\n",
       "      <th>916.65</th>\n",
       "      <td>20.0</td>\n",
       "      <td>37.0</td>\n",
       "      <td>0.350877</td>\n",
       "      <td>0.649123</td>\n",
       "      <td>916.65</td>\n",
       "    </tr>\n",
       "    <tr>\n",
       "      <th>955.28</th>\n",
       "      <td>0.0</td>\n",
       "      <td>1.0</td>\n",
       "      <td>0.000000</td>\n",
       "      <td>1.000000</td>\n",
       "      <td>955.28</td>\n",
       "    </tr>\n",
       "    <tr>\n",
       "      <th>955.28</th>\n",
       "      <td>0.0</td>\n",
       "      <td>2.0</td>\n",
       "      <td>0.000000</td>\n",
       "      <td>1.000000</td>\n",
       "      <td>955.28</td>\n",
       "    </tr>\n",
       "    <tr>\n",
       "      <th>957.68</th>\n",
       "      <td>0.0</td>\n",
       "      <td>4.0</td>\n",
       "      <td>0.000000</td>\n",
       "      <td>1.000000</td>\n",
       "      <td>957.68</td>\n",
       "    </tr>\n",
       "    <tr>\n",
       "      <th>960.08</th>\n",
       "      <td>1.0</td>\n",
       "      <td>12.0</td>\n",
       "      <td>0.076923</td>\n",
       "      <td>0.923077</td>\n",
       "      <td>960.08</td>\n",
       "    </tr>\n",
       "    <tr>\n",
       "      <th>962.48</th>\n",
       "      <td>14.0</td>\n",
       "      <td>34.0</td>\n",
       "      <td>0.291667</td>\n",
       "      <td>0.708333</td>\n",
       "      <td>962.48</td>\n",
       "    </tr>\n",
       "    <tr>\n",
       "      <th>1005.56</th>\n",
       "      <td>0.0</td>\n",
       "      <td>1.0</td>\n",
       "      <td>0.000000</td>\n",
       "      <td>1.000000</td>\n",
       "      <td>1005.56</td>\n",
       "    </tr>\n",
       "    <tr>\n",
       "      <th>1008.08</th>\n",
       "      <td>0.0</td>\n",
       "      <td>2.0</td>\n",
       "      <td>0.000000</td>\n",
       "      <td>1.000000</td>\n",
       "      <td>1008.08</td>\n",
       "    </tr>\n",
       "    <tr>\n",
       "      <th>1010.61</th>\n",
       "      <td>1.0</td>\n",
       "      <td>4.0</td>\n",
       "      <td>0.200000</td>\n",
       "      <td>0.800000</td>\n",
       "      <td>1010.61</td>\n",
       "    </tr>\n",
       "    <tr>\n",
       "      <th>1058.48</th>\n",
       "      <td>0.0</td>\n",
       "      <td>1.0</td>\n",
       "      <td>0.000000</td>\n",
       "      <td>1.000000</td>\n",
       "      <td>1058.48</td>\n",
       "    </tr>\n",
       "    <tr>\n",
       "      <th>1061.14</th>\n",
       "      <td>1.0</td>\n",
       "      <td>1.0</td>\n",
       "      <td>0.500000</td>\n",
       "      <td>0.500000</td>\n",
       "      <td>1061.14</td>\n",
       "    </tr>\n",
       "    <tr>\n",
       "      <th>1114.19</th>\n",
       "      <td>0.0</td>\n",
       "      <td>1.0</td>\n",
       "      <td>0.000000</td>\n",
       "      <td>1.000000</td>\n",
       "      <td>1114.19</td>\n",
       "    </tr>\n",
       "  </tbody>\n",
       "</table>\n",
       "</div>"
      ],
      "text/plain": [
       "            1     0    perc_1    perc_0    price\n",
       "price                                           \n",
       "742.89    3.0   6.0  0.333333  0.666667   742.89\n",
       "744.75    3.0   2.0  0.600000  0.400000   744.75\n",
       "746.62    1.0   1.0  0.500000  0.500000   746.62\n",
       "780.03    3.0   1.0  0.750000  0.250000   780.03\n",
       "780.03    2.0   0.0  1.000000  0.000000   780.03\n",
       "781.99    1.0   9.0  0.100000  0.900000   781.99\n",
       "783.95    2.0   7.0  0.222222  0.777778   783.95\n",
       "785.91    1.0   3.0  0.250000  0.750000   785.91\n",
       "787.88    2.0   4.0  0.333333  0.666667   787.88\n",
       "819.03    1.0   0.0  1.000000  0.000000   819.03\n",
       "819.03    4.0   1.0  0.800000  0.200000   819.03\n",
       "821.09    2.0   4.0  0.333333  0.666667   821.09\n",
       "823.15    0.0   7.0  0.000000  1.000000   823.15\n",
       "825.21    0.0   9.0  0.000000  1.000000   825.21\n",
       "827.28    1.0   8.0  0.111111  0.888889   827.28\n",
       "829.35    0.0   6.0  0.000000  1.000000   829.35\n",
       "862.14    0.0   1.0  0.000000  1.000000   862.14\n",
       "862.14    2.0   4.0  0.333333  0.666667   862.14\n",
       "864.30    2.0   6.0  0.250000  0.750000   864.30\n",
       "866.47    7.0   9.0  0.437500  0.562500   866.47\n",
       "868.64    6.0  12.0  0.333333  0.666667   868.64\n",
       "870.82    6.0   8.0  0.428571  0.571429   870.82\n",
       "873.00   35.0  40.0  0.466667  0.533333   873.00\n",
       "907.52    0.0   1.0  0.000000  1.000000   907.52\n",
       "907.52    0.0   4.0  0.000000  1.000000   907.52\n",
       "909.79    1.0  10.0  0.090909  0.909091   909.79\n",
       "912.07    2.0  16.0  0.111111  0.888889   912.07\n",
       "914.36    6.0  22.0  0.214286  0.785714   914.36\n",
       "916.65   20.0  37.0  0.350877  0.649123   916.65\n",
       "955.28    0.0   1.0  0.000000  1.000000   955.28\n",
       "955.28    0.0   2.0  0.000000  1.000000   955.28\n",
       "957.68    0.0   4.0  0.000000  1.000000   957.68\n",
       "960.08    1.0  12.0  0.076923  0.923077   960.08\n",
       "962.48   14.0  34.0  0.291667  0.708333   962.48\n",
       "1005.56   0.0   1.0  0.000000  1.000000  1005.56\n",
       "1008.08   0.0   2.0  0.000000  1.000000  1008.08\n",
       "1010.61   1.0   4.0  0.200000  0.800000  1010.61\n",
       "1058.48   0.0   1.0  0.000000  1.000000  1058.48\n",
       "1061.14   1.0   1.0  0.500000  0.500000  1061.14\n",
       "1114.19   0.0   1.0  0.000000  1.000000  1114.19"
      ]
     },
     "execution_count": 31,
     "metadata": {},
     "output_type": "execute_result"
    },
    {
     "data": {
      "image/png": "[encoded data removed]",
      "text/plain": [
       "<matplotlib.figure.Figure at 0x11d7ff3d0>"
      ]
     },
     "metadata": {},
     "output_type": "display_data"
    }
   ],
   "source": [
    "df_prices_count = pd.concat([df_prices[(df_prices['selections'] == 1)]['prices'].value_counts(), df_prices[(df_prices['selections'] == 0)]['prices'].value_counts()], axis=1)\n",
    "df_prices_count.columns = ['1','0']\n",
    "\n",
    "df_prices_count = df_prices_count.fillna(0)\n",
    "df_prices_count['perc_1'] = df_prices_count['1'] / (df_prices_count['1'] + df_prices_count['0'])\n",
    "df_prices_count['perc_0'] = df_prices_count['0'] / (df_prices_count['1'] + df_prices_count['0'])\n",
    "df_prices_count['price'] = df_prices_count.index\n",
    "\n",
    "\n",
    "decimals = pd.Series([2], index=['price'])\n",
    "df_prices_count = df_prices_count.round(decimals)\n",
    "df_prices_count.index = df_prices_count['price']\n",
    "\n",
    "fig, ax = plt.subplots()\n",
    "df_prices_count[['perc_1', 'perc_0']].plot.bar(stacked=True, width=1, position=0.5, edgecolor='white', ax=ax, alpha=1, color=[colors[0], \"#dddddd\"])\n",
    "plt.xticks(**ticks_font)\n",
    "plt.yticks(**ticks_font)\n",
    "plt.xlabel('Preu Lloguer', **axis_font)\n",
    "plt.ylabel('Accions de Lloguer', **axis_font)\n",
    "plt.title('', **title_font)\n",
    "plt.legend(['Acceptat', \"No Acceptat\"], loc='best', fancybox=True, framealpha=1);\n",
    "\n",
    "plt.savefig('figures/02_'+text_dataset+'.png', bbox_inches='tight', dpi=300)\n",
    "\n",
    "df_prices_count\n"
   ]
  },
  {
   "cell_type": "markdown",
   "metadata": {},
   "source": [
    "### Evolucio del preu del lloger"
   ]
  },
  {
   "cell_type": "code",
   "execution_count": 32,
   "metadata": {},
   "outputs": [
    {
     "data": {
      "image/png": "[encoded data removed]",
      "text/plain": [
       "<matplotlib.figure.Figure at 0x11cb24410>"
      ]
     },
     "metadata": {},
     "output_type": "display_data"
    }
   ],
   "source": [
    "df_games = pd.DataFrame(games)\n",
    "df_games_treatment = df_games[(df_games['control_intervention'] == 'BOTH') & (df_games['status'] != 'TEST')]\n",
    "\n",
    "prices_rounds = []\n",
    "\n",
    "for i, row in df_games_treatment.iterrows():\n",
    "    rounds = [r['num_round'] for r in df_games_treatment['rounds'][i]]\n",
    "    price = [r['price_init'] for r in df_games_treatment['rounds'][i]]\n",
    "    prices_rounds.append(np.array(price))\n",
    "\n",
    "    \n",
    "df_prices_rounds = pd.DataFrame(data=prices_rounds)\n",
    "df_prices_rounds\n",
    "\n",
    "price_average = df_prices_rounds.loc[:,:].mean()\n",
    "price_std = df_prices_rounds.loc[:,:].std()\n",
    "price_sem = df_prices_rounds.loc[:,:].sem()\n",
    "\n",
    "#ax = sns.lineplot(x=range(0, len(price_average)), y=price_average)\n",
    "\n",
    "plt.figure()\n",
    "error_lower = [price_average[i] -  1.96*(price_sem[i]) for i, e in enumerate(price_average)]\n",
    "error_higher = [price_average[i] +  1.96*(price_sem[i]) for i, e in enumerate(price_average)]\n",
    "\n",
    "#for g in games:\n",
    "#    plt.plot(range(1,13,1), g['round_contributions'], color=color.BLUE, linewidth=.1)\n",
    "\n",
    "plt.fill_between(range(1,len(price_average)+1,1), error_lower, error_higher, color=\"000000\", alpha=0.5, zorder=3, label='95% CI')\n",
    "plt.plot(range(1,len(price_average)+1,1), price_average, color=\"black\", zorder=4, label='Preu mitja', linewidth=2)\n",
    "\n",
    "plt.ylim(700,1100)\n",
    "plt.hlines(1004, 0, 13, colors='black', linewidth=2, linestyles='dotted', label='')\n",
    "plt.hlines(742, 0, 13, colors='black', linewidth=2, linestyles='dotted', label='')\n",
    "plt.xlim(0,13)\n",
    "plt.xticks(**ticks_font)\n",
    "plt.yticks(**ticks_font)\n",
    "plt.xlabel('', **axis_font)\n",
    "plt.ylabel('', **axis_font)\n",
    "plt.title('', **title_font)\n",
    "plt.legend()\n",
    "ax = plt.axes()\n",
    "ax.yaxis.grid(color='#DDDDDD', linestyle='-', linewidth=1)\n",
    "\n",
    "plt.savefig('figures/03_treatment_'+text_dataset+'.png', bbox_inches='tight', dpi=300)\n"
   ]
  },
  {
   "cell_type": "code",
   "execution_count": 33,
   "metadata": {},
   "outputs": [
    {
     "data": {
      "image/png": "[encoded data removed]",
      "text/plain": [
       "<matplotlib.figure.Figure at 0x11cb37150>"
      ]
     },
     "metadata": {},
     "output_type": "display_data"
    }
   ],
   "source": [
    "df_games = pd.DataFrame(games)\n",
    "df_games_no_treatment = df_games[(df_games['control_intervention'] == 'NONE') & (df_games['status'] != 'TEST')]\n",
    "\n",
    "prices_rounds = []\n",
    "\n",
    "for i, row in df_games_no_treatment.iterrows():\n",
    "    rounds = [r['num_round'] for r in df_games_no_treatment['rounds'][i]]\n",
    "    price = [r['price_init'] for r in df_games_no_treatment['rounds'][i]]\n",
    "    prices_rounds.append(np.array(price))\n",
    "\n",
    "    \n",
    "df_prices_rounds = pd.DataFrame(data=prices_rounds)\n",
    "df_prices_rounds\n",
    "\n",
    "price_average = df_prices_rounds.loc[:,:].mean()\n",
    "price_std = df_prices_rounds.loc[:,:].std()\n",
    "price_sem = df_prices_rounds.loc[:,:].sem()\n",
    "\n",
    "#ax = sns.lineplot(x=range(0, len(price_average)), y=price_average)\n",
    "\n",
    "plt.figure()\n",
    "error_lower = [price_average[i] -  1.96*(price_sem[i]) for i, e in enumerate(price_average)]\n",
    "error_higher = [price_average[i] +  1.96*(price_sem[i]) for i, e in enumerate(price_average)]\n",
    "\n",
    "#for g in games:\n",
    "#    plt.plot(range(1,13,1), g['round_contributions'], color=color.BLUE, linewidth=.1)\n",
    "\n",
    "plt.fill_between(range(1,len(price_average)+1,1), error_lower, error_higher, color=\"000000\", alpha=0.5, zorder=3, label='95% CI')\n",
    "plt.plot(range(1,len(price_average)+1,1), price_average, color=\"black\", zorder=4, label='Preu mitja', linewidth=2)\n",
    "\n",
    "plt.ylim(700,1100)\n",
    "plt.hlines(1004, 0, 13, colors='black', linewidth=2, linestyles='dotted', label='')\n",
    "plt.hlines(742, 0, 13, colors='black', linewidth=2, linestyles='dotted', label='')\n",
    "plt.xlim(0,13)\n",
    "plt.xticks(**ticks_font)\n",
    "plt.yticks(**ticks_font)\n",
    "plt.xlabel('', **axis_font)\n",
    "plt.ylabel('', **axis_font)\n",
    "plt.title('', **title_font)\n",
    "plt.legend()\n",
    "ax = plt.axes()\n",
    "ax.yaxis.grid(color='#DDDDDD', linestyle='-', linewidth=1)\n",
    "\n",
    "plt.savefig('figures/03_treatment_'+text_dataset+'.png', bbox_inches='tight', dpi=300)"
   ]
  },
  {
   "cell_type": "code",
   "execution_count": null,
   "metadata": {},
   "outputs": [],
   "source": []
  },
  {
   "cell_type": "markdown",
   "metadata": {},
   "source": [
    "### Estalvis en funcio del mes que es lloga"
   ]
  },
  {
   "cell_type": "code",
   "execution_count": 34,
   "metadata": {},
   "outputs": [
    {
     "name": "stdout",
     "output_type": "stream",
     "text": [
      "[1056.79399652 1010.2263254   889.24447223  864.08193017  331.7414747\n",
      " 1026.61648283 1016.29092925  960.64769344 1017.33393364 1059.488434\n",
      " 1015.73044116 1101.04338089]\n",
      "12\n"
     ]
    },
    {
     "data": {
      "image/png": "[encoded data removed]",
      "text/plain": [
       "<matplotlib.figure.Figure at 0x11db7d790>"
      ]
     },
     "metadata": {},
     "output_type": "display_data"
    }
   ],
   "source": [
    "df_round_savings = df_participants_economy[df_participants_economy['house'] == 1][['round_rented','endowment_final']]\n",
    "\n",
    "#df_round_savings.groupby('round_rented').count()\n",
    "\n",
    "savings_average = df_round_savings.groupby('round_rented').mean()\n",
    "savings_std = df_round_savings.groupby('round_rented').std()\n",
    "savings_sem = df_round_savings.groupby('round_rented').sem()\n",
    "\n",
    "\n",
    "\n",
    "savings = pd.concat([df_round_savings.groupby('round_rented').count(),\n",
    "                     savings_average.fillna(0), \n",
    "                     savings_sem.fillna(0), \n",
    "                     savings_std.fillna(0)], \n",
    "                     axis=1, join='inner')\n",
    "savings.columns = ['n', 'mean', 'std', 'sem']\n",
    "\n",
    "savings['error_higher'] = savings['mean'] + 1.96*savings['sem']\n",
    "savings['error_lower'] = savings['mean'] - 1.96*savings['sem']\n",
    "\n",
    "rounds = savings.index.values\n",
    "average = savings.iloc[:,1].values\n",
    "error_lower = savings.iloc[:,5].values\n",
    "error_higher = savings.iloc[:,4].values\n",
    "\n",
    "print error_lower\n",
    "print len(error_lower)\n",
    "\n",
    "#ax = sns.lineplot(x=range(0, len(price_average)), y=price_average)\n",
    "\n",
    "fig = plt.figure(figsize=(7,5))\n",
    "\n",
    "#error_lower = \n",
    "#error_higher = \n",
    "\n",
    "#for g in games:\n",
    "#    plt.plot(range(1,13,1), g['round_contributions'], color=color.BLUE, linewidth=.1)\n",
    "\n",
    "plt.fill_between(rounds, error_lower, error_higher, color=\"000000\", alpha=0.5, zorder=3, label='95% CI')\n",
    "plt.plot(rounds, average, color=\"black\", zorder=4, label='Average savings', linewidth=2)\n",
    "\n",
    "plt.ylim()\n",
    "plt.xlim(0,13)\n",
    "plt.xticks(**ticks_font)\n",
    "plt.yticks(**ticks_font)\n",
    "plt.xlabel('', **axis_font)\n",
    "plt.ylabel('', **axis_font)\n",
    "plt.title('', **title_font)\n",
    "plt.legend()\n",
    "ax = plt.axes()\n",
    "ax.yaxis.grid(color='#DDDDDD', linestyle='-', linewidth=1)\n",
    "\n",
    "plt.savefig('figures/04_'+text_dataset+'.png', bbox_inches='tight', dpi=300)\n"
   ]
  },
  {
   "cell_type": "code",
   "execution_count": 35,
   "metadata": {},
   "outputs": [
    {
     "data": {
      "text/html": [
       "<div>\n",
       "<style scoped>\n",
       "    .dataframe tbody tr th:only-of-type {\n",
       "        vertical-align: middle;\n",
       "    }\n",
       "\n",
       "    .dataframe tbody tr th {\n",
       "        vertical-align: top;\n",
       "    }\n",
       "\n",
       "    .dataframe thead th {\n",
       "        text-align: right;\n",
       "    }\n",
       "</style>\n",
       "<table border=\"1\" class=\"dataframe\">\n",
       "  <thead>\n",
       "    <tr style=\"text-align: right;\">\n",
       "      <th></th>\n",
       "      <th>n</th>\n",
       "      <th>mean</th>\n",
       "      <th>std</th>\n",
       "      <th>sem</th>\n",
       "      <th>error_higher</th>\n",
       "      <th>error_lower</th>\n",
       "    </tr>\n",
       "    <tr>\n",
       "      <th>round_rented</th>\n",
       "      <th></th>\n",
       "      <th></th>\n",
       "      <th></th>\n",
       "      <th></th>\n",
       "      <th></th>\n",
       "      <th></th>\n",
       "    </tr>\n",
       "  </thead>\n",
       "  <tbody>\n",
       "    <tr>\n",
       "      <th>1.0</th>\n",
       "      <td>13</td>\n",
       "      <td>1067.716923</td>\n",
       "      <td>1.545650</td>\n",
       "      <td>5.572922</td>\n",
       "      <td>1078.639850</td>\n",
       "      <td>1056.793997</td>\n",
       "    </tr>\n",
       "    <tr>\n",
       "      <th>2.0</th>\n",
       "      <td>9</td>\n",
       "      <td>1023.052222</td>\n",
       "      <td>2.181275</td>\n",
       "      <td>6.543825</td>\n",
       "      <td>1035.878119</td>\n",
       "      <td>1010.226325</td>\n",
       "    </tr>\n",
       "    <tr>\n",
       "      <th>3.0</th>\n",
       "      <td>8</td>\n",
       "      <td>1023.403750</td>\n",
       "      <td>24.200239</td>\n",
       "      <td>68.448611</td>\n",
       "      <td>1157.563028</td>\n",
       "      <td>889.244472</td>\n",
       "    </tr>\n",
       "    <tr>\n",
       "      <th>4.0</th>\n",
       "      <td>5</td>\n",
       "      <td>1001.622675</td>\n",
       "      <td>31.382700</td>\n",
       "      <td>70.173849</td>\n",
       "      <td>1139.163420</td>\n",
       "      <td>864.081930</td>\n",
       "    </tr>\n",
       "    <tr>\n",
       "      <th>5.0</th>\n",
       "      <td>8</td>\n",
       "      <td>915.614167</td>\n",
       "      <td>105.321515</td>\n",
       "      <td>297.894231</td>\n",
       "      <td>1499.486860</td>\n",
       "      <td>331.741475</td>\n",
       "    </tr>\n",
       "    <tr>\n",
       "      <th>6.0</th>\n",
       "      <td>2</td>\n",
       "      <td>1029.784573</td>\n",
       "      <td>1.142948</td>\n",
       "      <td>1.616373</td>\n",
       "      <td>1032.952663</td>\n",
       "      <td>1026.616483</td>\n",
       "    </tr>\n",
       "    <tr>\n",
       "      <th>7.0</th>\n",
       "      <td>4</td>\n",
       "      <td>1097.161356</td>\n",
       "      <td>20.630211</td>\n",
       "      <td>41.260422</td>\n",
       "      <td>1178.031782</td>\n",
       "      <td>1016.290929</td>\n",
       "    </tr>\n",
       "    <tr>\n",
       "      <th>8.0</th>\n",
       "      <td>4</td>\n",
       "      <td>1126.559406</td>\n",
       "      <td>42.324417</td>\n",
       "      <td>84.648833</td>\n",
       "      <td>1292.471119</td>\n",
       "      <td>960.647693</td>\n",
       "    </tr>\n",
       "    <tr>\n",
       "      <th>9.0</th>\n",
       "      <td>4</td>\n",
       "      <td>1098.734409</td>\n",
       "      <td>20.765427</td>\n",
       "      <td>41.530855</td>\n",
       "      <td>1180.134885</td>\n",
       "      <td>1017.333934</td>\n",
       "    </tr>\n",
       "    <tr>\n",
       "      <th>10.0</th>\n",
       "      <td>3</td>\n",
       "      <td>1147.978723</td>\n",
       "      <td>26.066271</td>\n",
       "      <td>45.148106</td>\n",
       "      <td>1236.469011</td>\n",
       "      <td>1059.488434</td>\n",
       "    </tr>\n",
       "    <tr>\n",
       "      <th>11.0</th>\n",
       "      <td>6</td>\n",
       "      <td>1160.345389</td>\n",
       "      <td>30.121839</td>\n",
       "      <td>73.783137</td>\n",
       "      <td>1304.960337</td>\n",
       "      <td>1015.730441</td>\n",
       "    </tr>\n",
       "    <tr>\n",
       "      <th>12.0</th>\n",
       "      <td>8</td>\n",
       "      <td>1136.735792</td>\n",
       "      <td>6.438354</td>\n",
       "      <td>18.210414</td>\n",
       "      <td>1172.428203</td>\n",
       "      <td>1101.043381</td>\n",
       "    </tr>\n",
       "  </tbody>\n",
       "</table>\n",
       "</div>"
      ],
      "text/plain": [
       "               n         mean         std         sem  error_higher  \\\n",
       "round_rented                                                          \n",
       "1.0           13  1067.716923    1.545650    5.572922   1078.639850   \n",
       "2.0            9  1023.052222    2.181275    6.543825   1035.878119   \n",
       "3.0            8  1023.403750   24.200239   68.448611   1157.563028   \n",
       "4.0            5  1001.622675   31.382700   70.173849   1139.163420   \n",
       "5.0            8   915.614167  105.321515  297.894231   1499.486860   \n",
       "6.0            2  1029.784573    1.142948    1.616373   1032.952663   \n",
       "7.0            4  1097.161356   20.630211   41.260422   1178.031782   \n",
       "8.0            4  1126.559406   42.324417   84.648833   1292.471119   \n",
       "9.0            4  1098.734409   20.765427   41.530855   1180.134885   \n",
       "10.0           3  1147.978723   26.066271   45.148106   1236.469011   \n",
       "11.0           6  1160.345389   30.121839   73.783137   1304.960337   \n",
       "12.0           8  1136.735792    6.438354   18.210414   1172.428203   \n",
       "\n",
       "              error_lower  \n",
       "round_rented               \n",
       "1.0           1056.793997  \n",
       "2.0           1010.226325  \n",
       "3.0            889.244472  \n",
       "4.0            864.081930  \n",
       "5.0            331.741475  \n",
       "6.0           1026.616483  \n",
       "7.0           1016.290929  \n",
       "8.0            960.647693  \n",
       "9.0           1017.333934  \n",
       "10.0          1059.488434  \n",
       "11.0          1015.730441  \n",
       "12.0          1101.043381  "
      ]
     },
     "execution_count": 35,
     "metadata": {},
     "output_type": "execute_result"
    }
   ],
   "source": [
    "savings"
   ]
  },
  {
   "cell_type": "markdown",
   "metadata": {},
   "source": [
    "#### Socio + Polítiques Públiques"
   ]
  },
  {
   "cell_type": "code",
   "execution_count": 36,
   "metadata": {},
   "outputs": [
    {
     "data": {
      "text/html": [
       "<div>\n",
       "<style scoped>\n",
       "    .dataframe tbody tr th:only-of-type {\n",
       "        vertical-align: middle;\n",
       "    }\n",
       "\n",
       "    .dataframe tbody tr th {\n",
       "        vertical-align: top;\n",
       "    }\n",
       "\n",
       "    .dataframe thead th {\n",
       "        text-align: right;\n",
       "    }\n",
       "</style>\n",
       "<table border=\"1\" class=\"dataframe\">\n",
       "  <thead>\n",
       "    <tr style=\"text-align: right;\">\n",
       "      <th></th>\n",
       "      <th>socio_pr1</th>\n",
       "      <th>socio_pr2</th>\n",
       "      <th>socio_pr3</th>\n",
       "      <th>socio_pr4</th>\n",
       "      <th>socio_pr5</th>\n",
       "      <th>socio_pr6</th>\n",
       "      <th>socio_pr7</th>\n",
       "      <th>frame_pr1</th>\n",
       "      <th>frame_pr2</th>\n",
       "      <th>frame_pr3</th>\n",
       "      <th>frame_pr4</th>\n",
       "      <th>frame_pr5</th>\n",
       "      <th>frame_pr6</th>\n",
       "    </tr>\n",
       "  </thead>\n",
       "  <tbody>\n",
       "    <tr>\n",
       "      <th>71</th>\n",
       "      <td>M</td>\n",
       "      <td>r4</td>\n",
       "      <td>08013</td>\n",
       "      <td>r4</td>\n",
       "      <td>r4</td>\n",
       "      <td>r3</td>\n",
       "      <td>r2</td>\n",
       "      <td>r3</td>\n",
       "      <td>r3</td>\n",
       "      <td>r3</td>\n",
       "      <td>r8</td>\n",
       "      <td>r7</td>\n",
       "      <td>r3</td>\n",
       "    </tr>\n",
       "    <tr>\n",
       "      <th>72</th>\n",
       "      <td>W</td>\n",
       "      <td>r8</td>\n",
       "      <td>08013</td>\n",
       "      <td>r5</td>\n",
       "      <td>r3</td>\n",
       "      <td>r1</td>\n",
       "      <td>r1</td>\n",
       "      <td>r2</td>\n",
       "      <td>r3</td>\n",
       "      <td>r3</td>\n",
       "      <td>r6</td>\n",
       "      <td>r1</td>\n",
       "      <td>r3</td>\n",
       "    </tr>\n",
       "    <tr>\n",
       "      <th>73</th>\n",
       "      <td>W</td>\n",
       "      <td>r6</td>\n",
       "      <td>08013</td>\n",
       "      <td>r5</td>\n",
       "      <td>r3</td>\n",
       "      <td>r3</td>\n",
       "      <td>r2</td>\n",
       "      <td>r3</td>\n",
       "      <td>r3</td>\n",
       "      <td>r3</td>\n",
       "      <td>r8</td>\n",
       "      <td>r3</td>\n",
       "      <td>r2</td>\n",
       "    </tr>\n",
       "    <tr>\n",
       "      <th>74</th>\n",
       "      <td>M</td>\n",
       "      <td>r4</td>\n",
       "      <td>08012</td>\n",
       "      <td>r4</td>\n",
       "      <td>r4</td>\n",
       "      <td>r3</td>\n",
       "      <td>r2</td>\n",
       "      <td>r2</td>\n",
       "      <td>r3</td>\n",
       "      <td>r2</td>\n",
       "      <td>r7</td>\n",
       "      <td>r4</td>\n",
       "      <td>r1</td>\n",
       "    </tr>\n",
       "    <tr>\n",
       "      <th>75</th>\n",
       "      <td>W</td>\n",
       "      <td>r4</td>\n",
       "      <td>08031</td>\n",
       "      <td>r4</td>\n",
       "      <td>r3</td>\n",
       "      <td>r5</td>\n",
       "      <td>r2</td>\n",
       "      <td>r1</td>\n",
       "      <td>r2</td>\n",
       "      <td>r2</td>\n",
       "      <td>r6</td>\n",
       "      <td>r1</td>\n",
       "      <td>r1</td>\n",
       "    </tr>\n",
       "  </tbody>\n",
       "</table>\n",
       "</div>"
      ],
      "text/plain": [
       "   socio_pr1 socio_pr2 socio_pr3 socio_pr4 socio_pr5 socio_pr6 socio_pr7  \\\n",
       "71         M        r4     08013        r4        r4        r3        r2   \n",
       "72         W        r8     08013        r5        r3        r1        r1   \n",
       "73         W        r6     08013        r5        r3        r3        r2   \n",
       "74         M        r4     08012        r4        r4        r3        r2   \n",
       "75         W        r4     08031        r4        r3        r5        r2   \n",
       "\n",
       "   frame_pr1 frame_pr2 frame_pr3 frame_pr4 frame_pr5 frame_pr6  \n",
       "71        r3        r3        r3        r8        r7        r3  \n",
       "72        r2        r3        r3        r6        r1        r3  \n",
       "73        r3        r3        r3        r8        r3        r2  \n",
       "74        r2        r3        r2        r7        r4        r1  \n",
       "75        r1        r2        r2        r6        r1        r1  "
      ]
     },
     "execution_count": 36,
     "metadata": {},
     "output_type": "execute_result"
    }
   ],
   "source": [
    "df_socio_frame = pd.concat([df_participants_socio, df_participants_frame], axis=1, join='inner')\n",
    "df_socio_frame.tail()"
   ]
  },
  {
   "cell_type": "code",
   "execution_count": 37,
   "metadata": {},
   "outputs": [
    {
     "name": "stdout",
     "output_type": "stream",
     "text": [
      "Correlacio entre genere i la limitacio de renta\n"
     ]
    },
    {
     "data": {
      "text/html": [
       "<div>\n",
       "<style scoped>\n",
       "    .dataframe tbody tr th:only-of-type {\n",
       "        vertical-align: middle;\n",
       "    }\n",
       "\n",
       "    .dataframe tbody tr th {\n",
       "        vertical-align: top;\n",
       "    }\n",
       "\n",
       "    .dataframe thead th {\n",
       "        text-align: right;\n",
       "    }\n",
       "</style>\n",
       "<table border=\"1\" class=\"dataframe\">\n",
       "  <thead>\n",
       "    <tr style=\"text-align: right;\">\n",
       "      <th>socio_pr1</th>\n",
       "      <th>M</th>\n",
       "      <th>W</th>\n",
       "    </tr>\n",
       "    <tr>\n",
       "      <th>frame_pr2</th>\n",
       "      <th></th>\n",
       "      <th></th>\n",
       "    </tr>\n",
       "  </thead>\n",
       "  <tbody>\n",
       "    <tr>\n",
       "      <th>r1</th>\n",
       "      <td>0.052632</td>\n",
       "      <td>0.026316</td>\n",
       "    </tr>\n",
       "    <tr>\n",
       "      <th>r2</th>\n",
       "      <td>0.026316</td>\n",
       "      <td>0.105263</td>\n",
       "    </tr>\n",
       "    <tr>\n",
       "      <th>r3</th>\n",
       "      <td>0.315789</td>\n",
       "      <td>0.473684</td>\n",
       "    </tr>\n",
       "  </tbody>\n",
       "</table>\n",
       "</div>"
      ],
      "text/plain": [
       "socio_pr1         M         W\n",
       "frame_pr2                    \n",
       "r1         0.052632  0.026316\n",
       "r2         0.026316  0.105263\n",
       "r3         0.315789  0.473684"
      ]
     },
     "execution_count": 37,
     "metadata": {},
     "output_type": "execute_result"
    },
    {
     "data": {
      "image/png": "[encoded data removed]",
      "text/plain": [
       "<matplotlib.figure.Figure at 0x11db91110>"
      ]
     },
     "metadata": {},
     "output_type": "display_data"
    }
   ],
   "source": [
    "print 'Correlacio entre genere i la limitacio de renta'\n",
    "\n",
    "df_gender_limit = df_socio_frame[(df_socio_frame['socio_pr1'] == 'M') | (df_socio_frame['socio_pr1'] == 'W')]\n",
    "\n",
    "cross = pd.crosstab(df_gender_limit.frame_pr2, df_gender_limit.socio_pr1, normalize=True)\n",
    "\n",
    "xticks_labels = ['Home', 'Dona']\n",
    "yticks_labels = ['Poc', 'Normal', 'Molt']\n",
    "\n",
    "plt.clf()\n",
    "ax = sns.heatmap(cross, cmap='gray',square=True, linewidths=.5, xticklabels=xticks_labels, yticklabels=yticks_labels, annot=True)\n",
    "\n",
    "ax.set_ylabel('')    \n",
    "ax.set_xlabel('')\n",
    "plt.xticks(**ticks_font)\n",
    "plt.yticks(**ticks_font)\n",
    "\n",
    "cross\n"
   ]
  },
  {
   "cell_type": "code",
   "execution_count": 38,
   "metadata": {},
   "outputs": [
    {
     "name": "stdout",
     "output_type": "stream",
     "text": [
      "Correlacio entre tipologia de llar i la limitacio de renta\n"
     ]
    },
    {
     "data": {
      "text/html": [
       "<div>\n",
       "<style scoped>\n",
       "    .dataframe tbody tr th:only-of-type {\n",
       "        vertical-align: middle;\n",
       "    }\n",
       "\n",
       "    .dataframe tbody tr th {\n",
       "        vertical-align: top;\n",
       "    }\n",
       "\n",
       "    .dataframe thead th {\n",
       "        text-align: right;\n",
       "    }\n",
       "</style>\n",
       "<table border=\"1\" class=\"dataframe\">\n",
       "  <thead>\n",
       "    <tr style=\"text-align: right;\">\n",
       "      <th>socio_pr5</th>\n",
       "      <th>r1</th>\n",
       "      <th>r2</th>\n",
       "      <th>r3</th>\n",
       "      <th>r4</th>\n",
       "    </tr>\n",
       "    <tr>\n",
       "      <th>frame_pr2</th>\n",
       "      <th></th>\n",
       "      <th></th>\n",
       "      <th></th>\n",
       "      <th></th>\n",
       "    </tr>\n",
       "  </thead>\n",
       "  <tbody>\n",
       "    <tr>\n",
       "      <th>r1</th>\n",
       "      <td>0.026316</td>\n",
       "      <td>0.000000</td>\n",
       "      <td>0.052632</td>\n",
       "      <td>0.000000</td>\n",
       "    </tr>\n",
       "    <tr>\n",
       "      <th>r2</th>\n",
       "      <td>0.000000</td>\n",
       "      <td>0.013158</td>\n",
       "      <td>0.092105</td>\n",
       "      <td>0.026316</td>\n",
       "    </tr>\n",
       "    <tr>\n",
       "      <th>r3</th>\n",
       "      <td>0.092105</td>\n",
       "      <td>0.144737</td>\n",
       "      <td>0.447368</td>\n",
       "      <td>0.105263</td>\n",
       "    </tr>\n",
       "  </tbody>\n",
       "</table>\n",
       "</div>"
      ],
      "text/plain": [
       "socio_pr5        r1        r2        r3        r4\n",
       "frame_pr2                                        \n",
       "r1         0.026316  0.000000  0.052632  0.000000\n",
       "r2         0.000000  0.013158  0.092105  0.026316\n",
       "r3         0.092105  0.144737  0.447368  0.105263"
      ]
     },
     "execution_count": 38,
     "metadata": {},
     "output_type": "execute_result"
    },
    {
     "data": {
      "image/png": "[encoded data removed]",
      "text/plain": [
       "<matplotlib.figure.Figure at 0x119bda650>"
      ]
     },
     "metadata": {},
     "output_type": "display_data"
    }
   ],
   "source": [
    "print 'Correlacio entre tipologia de llar i la limitacio de renta'\n",
    "\n",
    "#|r1|Sol|\n",
    "#|r2|Llar sense persones a càrrec|\n",
    "#|r3|Llar amb persones a càrrec|\n",
    "#|r4|Més persones que no són parella|\n",
    "\n",
    "cross = pd.crosstab(df_socio_frame.frame_pr2, df_socio_frame.socio_pr5, normalize=True)\n",
    "\n",
    "xticks_labels = ['Sol', 'Sense... a carrec', 'Amb... a carrec', 'Mes... no parella']\n",
    "yticks_labels = ['Poc', 'Normal', 'Molt']\n",
    "ax = sns.heatmap(cross, cmap='gray',square=True, linewidths=.5, xticklabels=xticks_labels, yticklabels=yticks_labels)\n",
    "\n",
    "ax.set_ylabel('')    \n",
    "ax.set_xlabel('')\n",
    "\n",
    "cross\n"
   ]
  },
  {
   "cell_type": "code",
   "execution_count": 39,
   "metadata": {},
   "outputs": [
    {
     "name": "stdout",
     "output_type": "stream",
     "text": [
      "Correlacio entre regim de tinença i la limitacio de renta\n"
     ]
    },
    {
     "data": {
      "text/html": [
       "<div>\n",
       "<style scoped>\n",
       "    .dataframe tbody tr th:only-of-type {\n",
       "        vertical-align: middle;\n",
       "    }\n",
       "\n",
       "    .dataframe tbody tr th {\n",
       "        vertical-align: top;\n",
       "    }\n",
       "\n",
       "    .dataframe thead th {\n",
       "        text-align: right;\n",
       "    }\n",
       "</style>\n",
       "<table border=\"1\" class=\"dataframe\">\n",
       "  <thead>\n",
       "    <tr style=\"text-align: right;\">\n",
       "      <th>socio_pr6</th>\n",
       "      <th>r1</th>\n",
       "      <th>r2</th>\n",
       "      <th>r3</th>\n",
       "      <th>r4</th>\n",
       "      <th>r5</th>\n",
       "      <th>r6</th>\n",
       "    </tr>\n",
       "    <tr>\n",
       "      <th>frame_pr2</th>\n",
       "      <th></th>\n",
       "      <th></th>\n",
       "      <th></th>\n",
       "      <th></th>\n",
       "      <th></th>\n",
       "      <th></th>\n",
       "    </tr>\n",
       "  </thead>\n",
       "  <tbody>\n",
       "    <tr>\n",
       "      <th>r1</th>\n",
       "      <td>0.054795</td>\n",
       "      <td>0.013699</td>\n",
       "      <td>0.000000</td>\n",
       "      <td>0.000000</td>\n",
       "      <td>0.000000</td>\n",
       "      <td>0.013699</td>\n",
       "    </tr>\n",
       "    <tr>\n",
       "      <th>r2</th>\n",
       "      <td>0.068493</td>\n",
       "      <td>0.041096</td>\n",
       "      <td>0.013699</td>\n",
       "      <td>0.000000</td>\n",
       "      <td>0.013699</td>\n",
       "      <td>0.000000</td>\n",
       "    </tr>\n",
       "    <tr>\n",
       "      <th>r3</th>\n",
       "      <td>0.205479</td>\n",
       "      <td>0.150685</td>\n",
       "      <td>0.246575</td>\n",
       "      <td>0.136986</td>\n",
       "      <td>0.013699</td>\n",
       "      <td>0.027397</td>\n",
       "    </tr>\n",
       "  </tbody>\n",
       "</table>\n",
       "</div>"
      ],
      "text/plain": [
       "socio_pr6        r1        r2        r3        r4        r5        r6\n",
       "frame_pr2                                                            \n",
       "r1         0.054795  0.013699  0.000000  0.000000  0.000000  0.013699\n",
       "r2         0.068493  0.041096  0.013699  0.000000  0.013699  0.000000\n",
       "r3         0.205479  0.150685  0.246575  0.136986  0.013699  0.027397"
      ]
     },
     "execution_count": 39,
     "metadata": {},
     "output_type": "execute_result"
    },
    {
     "data": {
      "image/png": "[encoded data removed]",
      "text/plain": [
       "<matplotlib.figure.Figure at 0x119302b10>"
      ]
     },
     "metadata": {},
     "output_type": "display_data"
    }
   ],
   "source": [
    "print 'Correlacio entre regim de tinença i la limitacio de renta'\n",
    "\n",
    "#|r1|En propietat|\n",
    "#|r2|En propietat pendent de pagament (hipoteca)|\n",
    "#|r3|En lloguer o relloguer a preu de mercat|\n",
    "#|r4|En lloguer o relloguer a preu inferior al de mercat|\n",
    "#|r5|En cessió gratuïta|\n",
    "#|r6|Habitació de lloguer|\n",
    "#|r7|Ocupació|\n",
    "#|r8|Altres|\n",
    "\n",
    "df_regim_limit = df_socio_frame[(df_socio_frame['socio_pr6'] != 'r8')]\n",
    "\n",
    "cross = pd.crosstab(df_regim_limit.frame_pr2, df_regim_limit.socio_pr6, normalize=True)\n",
    "\n",
    "#xticks_labels = ['En propietat', 'Hipoteca', 'Lloguer mercat', 'Lloguer no mercat', 'Cessio', 'Habitacio', 'Ocupacio', 'Altres']\n",
    "#yticks_labels = ['Poc', 'Normal', 'Molt']\n",
    "ax = sns.heatmap(cross, cmap='gray',square=True, linewidths=.5, \n",
    "                 #xticklabels=xticks_labels, yticklabels=yticks_labels\n",
    "                )\n",
    "\n",
    "ax.set_ylabel('')    \n",
    "ax.set_xlabel('')\n",
    "\n",
    "cross\n"
   ]
  },
  {
   "cell_type": "code",
   "execution_count": null,
   "metadata": {},
   "outputs": [],
   "source": []
  },
  {
   "cell_type": "code",
   "execution_count": null,
   "metadata": {},
   "outputs": [],
   "source": []
  }
 ],
 "metadata": {
  "kernelspec": {
   "display_name": "Python 2",
   "language": "python",
   "name": "python2"
  },
  "language_info": {
   "codemirror_mode": {
    "name": "ipython",
    "version": 2
   },
   "file_extension": ".py",
   "mimetype": "text/x-python",
   "name": "python",
   "nbconvert_exporter": "python",
   "pygments_lexer": "ipython2",
   "version": "2.7.13"
  }
 },
 "nbformat": 4,
 "nbformat_minor": 2
}
